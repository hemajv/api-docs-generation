{
 "cells": [
  {
   "cell_type": "code",
   "execution_count": 1,
   "id": "57085a6d-0a8f-40c7-853b-64abe47db655",
   "metadata": {},
   "outputs": [],
   "source": [
    "# !pip install tree_sitter"
   ]
  },
  {
   "cell_type": "code",
   "execution_count": 2,
   "id": "45d554a7-eaca-4120-89b4-7e8c76083932",
   "metadata": {},
   "outputs": [],
   "source": [
    "# !git clone https://github.com/tree-sitter/tree-sitter-python"
   ]
  },
  {
   "cell_type": "code",
   "execution_count": 3,
   "id": "d03bc808-5731-4467-821b-afde8b7a395e",
   "metadata": {
    "tags": []
   },
   "outputs": [],
   "source": [
    "from collections import defaultdict\n",
    "from tree_sitter import Language, Parser\n",
    "from pprint import pprint\n",
    "import json\n",
    "import ast\n",
    "from typing import List, Dict, Optional"
   ]
  },
  {
   "cell_type": "code",
   "execution_count": 4,
   "id": "99646de4-32aa-45d0-9f11-ce7b12ffc4fc",
   "metadata": {},
   "outputs": [
    {
     "data": {
      "text/plain": [
       "True"
      ]
     },
     "execution_count": 4,
     "metadata": {},
     "output_type": "execute_result"
    }
   ],
   "source": [
    "Language.build_library(\n",
    "    # Store the library in the `build` directory\n",
    "    \"build/my-languages.so\",\n",
    "    # Include one or more languages\n",
    "    [\"tree-sitter-python\"],\n",
    ")"
   ]
  },
  {
   "cell_type": "code",
   "execution_count": 5,
   "id": "2b56f20a-7b2f-4607-a092-f4ba5cf3b3e0",
   "metadata": {},
   "outputs": [],
   "source": [
    "PY_LANGUAGE = Language(\"build/my-languages.so\", \"python\")"
   ]
  },
  {
   "cell_type": "code",
   "execution_count": 6,
   "id": "28b00725-4a8b-4135-9f5c-d663500eba10",
   "metadata": {},
   "outputs": [],
   "source": [
    "parser = Parser()\n",
    "parser.set_language(PY_LANGUAGE)"
   ]
  },
  {
   "cell_type": "code",
   "execution_count": 7,
   "id": "c238f909-5a81-4b15-8544-5acf233b3973",
   "metadata": {},
   "outputs": [],
   "source": [
    "# load nested data\n",
    "dataset_path = \"../../data/raw/nested_data.json\"\n",
    "with open(dataset_path, 'r') as f:\n",
    "\t\tdata = json.load(f)"
   ]
  },
  {
   "cell_type": "code",
   "execution_count": 8,
   "id": "972d5880-ce26-400f-9ccb-81e504b871e1",
   "metadata": {
    "tags": []
   },
   "outputs": [
    {
     "data": {
      "text/plain": [
       "dict_keys(['errors', 'oidc', 'sign', 'transparency', 'verify_models', 'verify_policy', 'verify_verifier'])"
      ]
     },
     "execution_count": 8,
     "metadata": {},
     "output_type": "execute_result"
    }
   ],
   "source": [
    "data.keys()"
   ]
  },
  {
   "cell_type": "code",
   "execution_count": 9,
   "id": "ad14bdc1-8c6b-46b4-98cd-1c497dae242b",
   "metadata": {
    "tags": []
   },
   "outputs": [
    {
     "data": {
      "text/plain": [
       "dict_keys(['markdown', 'code'])"
      ]
     },
     "execution_count": 9,
     "metadata": {},
     "output_type": "execute_result"
    }
   ],
   "source": [
    "data[\"errors\"].keys()"
   ]
  },
  {
   "cell_type": "code",
   "execution_count": 10,
   "id": "7d7a8a5f-9620-4057-b244-1afd2bd8c082",
   "metadata": {},
   "outputs": [],
   "source": [
    "files = {\n",
    "    \"errors\": \"errors.py\",\n",
    "    \"oidc\": \"oidc.py\",\n",
    "    \"sign\": \"sign.py\",\n",
    "    \"transparency\": \"transparency.py\",\n",
    "    \"verify_models\": \"verify/models.py\",\n",
    "    \"verify_policy\": \"verify/policy.py\",\n",
    "    \"verify_verifier\": \"verify/verifier.py\"\n",
    "}"
   ]
  },
  {
   "cell_type": "code",
   "execution_count": 11,
   "id": "96656b98-57e8-4f96-96ea-ae27acc7a698",
   "metadata": {
    "tags": []
   },
   "outputs": [],
   "source": [
    "def extract_functions_classes_imports(node):\n",
    "    if node.type == 'import_statement':\n",
    "        import_text = node.text.strip() if hasattr(node, 'text') else \"\"\n",
    "        return {'imports': [import_text.decode(\"utf-8\")]}\n",
    "\n",
    "    elif node.type == 'function_definition':\n",
    "        function_text = node.text.strip() if hasattr(node, 'text') else \"\"\n",
    "        return {'functions': [function_text.decode(\"utf-8\")]}\n",
    "\n",
    "    elif node.type == 'class_definition':\n",
    "        class_text = node.text.strip().decode(\"utf-8\") if hasattr(node, 'text') else \"\"\n",
    "        return {'classes': {class_text}}\n",
    "\n",
    "    # Check if it's a documentation string for the entire module\n",
    "    elif node.type == 'expression_statement' and node.child_count > 0 and node.children[0].type == 'string':\n",
    "        doc_string = node.children[0].text.strip() if hasattr(node.children[0], 'text') else \"\"\n",
    "        return {'documentation': [doc_string.decode(\"utf-8\")]}\n",
    "\n",
    "    # If it's not an import, function, or class, and not a documentation string, consider it as 'other'\n",
    "    else:\n",
    "        other_text = node.text.strip() if hasattr(node, 'text') else \"\"\n",
    "        return {'other': [other_text.decode(\"utf-8\")]}\n",
    "    \n",
    "    for child in node.children:\n",
    "        extract_functions_classes_imports(child)"
   ]
  },
  {
   "cell_type": "code",
   "execution_count": 12,
   "id": "2e17f579-efb2-483c-8b5f-a52e4af89801",
   "metadata": {
    "tags": []
   },
   "outputs": [],
   "source": [
    "def categorize_code(root_node):\n",
    "    result = {'imports': [], 'functions': [], 'classes': [], 'documentation': [], 'other': []}\n",
    "    for node in root_node.children:\n",
    "        category_result = extract_functions_classes_imports(node)\n",
    "        for category, items in category_result.items():\n",
    "            result[category].extend(items)\n",
    "\n",
    "    return result"
   ]
  },
  {
   "cell_type": "code",
   "execution_count": 13,
   "id": "b44a2b99-5c4f-4607-a1d3-e4a18fde10dd",
   "metadata": {},
   "outputs": [],
   "source": [
    "def extract_docstrings(code: str) -> List[str]:\n",
    "    tree = ast.parse(code)\n",
    "    return [node.value.s for node in ast.walk(tree) if isinstance(node, ast.Expr) and isinstance(node.value, ast.Str)]"
   ]
  },
  {
   "cell_type": "code",
   "execution_count": 14,
   "id": "b837b2b1-bcdb-401b-b930-fc5bc5baebc2",
   "metadata": {},
   "outputs": [],
   "source": [
    "def process_code(data: Dict[str, Dict[str, List[str]]]) -> Dict[str, Dict[str, List[str]]]:\n",
    "    for category, category_data in data.items():\n",
    "        if \"code_chunks\" in category_data:\n",
    "            code_chunks = category_data[\"code_chunks\"]\n",
    "\n",
    "            for key in [\"functions\", \"classes\"]:\n",
    "                new_key_code = f\"{key}_code\"\n",
    "                new_key_docstrings = f\"{key}_docstrings\"\n",
    "\n",
    "                if key in code_chunks:\n",
    "                    # Ensure the keys are present, even if initially empty\n",
    "                    code_chunks[new_key_code] = code_chunks.get(new_key_code, [])\n",
    "                    code_chunks[new_key_docstrings] = code_chunks.get(new_key_docstrings, [])\n",
    "\n",
    "                    for i, code_block in enumerate(code_chunks[key]):\n",
    "                        docstrings = extract_docstrings(code_block)\n",
    "                        code_chunks[new_key_docstrings].extend(docstrings)\n",
    "\n",
    "                        # Remove docstrings from the original code block\n",
    "                        for docstring in docstrings:\n",
    "                            code_chunks[key][i] = code_chunks[key][i].replace(f'\"\"\"{docstring}\"\"\"', '\"\"\",', 1)\n",
    "\n",
    "                        # Append the modified code block to the new key\n",
    "                        code_chunks[new_key_code].append(code_chunks[key][i])\n",
    "\n",
    "    return data\n"
   ]
  },
  {
   "cell_type": "code",
   "execution_count": 15,
   "id": "bae432f8-07a0-46a0-b34e-db3637ab8d90",
   "metadata": {
    "tags": []
   },
   "outputs": [],
   "source": [
    "for k in data.keys():\n",
    "    code_chunk = data[k][\"code\"][0][files[k]]\n",
    "    tree = parser.parse(bytes(code_chunk, \"utf8\"))\n",
    "    root_node = tree.root_node\n",
    "    k_categorized_code = categorize_code(root_node)\n",
    "    data[k]['code_chunks'] = k_categorized_code"
   ]
  },
  {
   "cell_type": "code",
   "execution_count": 16,
   "id": "2546b5f3-981e-4983-821e-a975fd05381e",
   "metadata": {},
   "outputs": [],
   "source": [
    "processed_dataset = process_code(data)"
   ]
  },
  {
   "cell_type": "code",
   "execution_count": 17,
   "id": "04f972a4-1555-4284-81af-f166200862a4",
   "metadata": {
    "tags": []
   },
   "outputs": [
    {
     "data": {
      "text/plain": [
       "dict_keys(['errors', 'oidc', 'sign', 'transparency', 'verify_models', 'verify_policy', 'verify_verifier'])"
      ]
     },
     "execution_count": 17,
     "metadata": {},
     "output_type": "execute_result"
    }
   ],
   "source": [
    "data.keys()"
   ]
  },
  {
   "cell_type": "code",
   "execution_count": 18,
   "id": "42efaff3-22e4-416a-8f2b-e39339890c7d",
   "metadata": {},
   "outputs": [
    {
     "data": {
      "text/plain": [
       "dict_keys(['imports', 'functions', 'classes', 'documentation', 'other', 'functions_code', 'functions_docstrings', 'classes_code', 'classes_docstrings'])"
      ]
     },
     "execution_count": 18,
     "metadata": {},
     "output_type": "execute_result"
    }
   ],
   "source": [
    "data[\"oidc\"][\"code_chunks\"].keys()"
   ]
  },
  {
   "cell_type": "code",
   "execution_count": 19,
   "id": "098de4c3-97c6-4dd5-82fa-5cc288166a15",
   "metadata": {},
   "outputs": [
    {
     "data": {
      "text/plain": [
       "dict_keys(['imports', 'functions', 'classes', 'documentation', 'other', 'functions_code', 'functions_docstrings', 'classes_code', 'classes_docstrings'])"
      ]
     },
     "execution_count": 19,
     "metadata": {},
     "output_type": "execute_result"
    }
   ],
   "source": [
    "data[\"errors\"][\"code_chunks\"].keys()"
   ]
  },
  {
   "cell_type": "code",
   "execution_count": 20,
   "id": "8b76d836-333e-400a-89df-8b639dc030c6",
   "metadata": {
    "tags": []
   },
   "outputs": [
    {
     "data": {
      "text/plain": [
       "dict_keys(['errors', 'oidc', 'sign', 'transparency', 'verify_models', 'verify_policy', 'verify_verifier'])"
      ]
     },
     "execution_count": 20,
     "metadata": {},
     "output_type": "execute_result"
    }
   ],
   "source": [
    "data.keys()"
   ]
  },
  {
   "cell_type": "code",
   "execution_count": 21,
   "id": "7fe63613-c45c-4f87-8042-5b26389d6369",
   "metadata": {
    "tags": []
   },
   "outputs": [
    {
     "data": {
      "text/plain": [
       "dict_keys(['markdown', 'code', 'code_chunks'])"
      ]
     },
     "execution_count": 21,
     "metadata": {},
     "output_type": "execute_result"
    }
   ],
   "source": [
    "data[\"oidc\"].keys()"
   ]
  },
  {
   "cell_type": "code",
   "execution_count": 22,
   "id": "62848e74-1959-41af-8fb8-26da561c48d8",
   "metadata": {},
   "outputs": [
    {
     "data": {
      "text/plain": [
       "{'imports': ['import logging',\n",
       "  'import sys',\n",
       "  'import time',\n",
       "  'import urllib.parse',\n",
       "  'import webbrowser',\n",
       "  'import id',\n",
       "  'import jwt',\n",
       "  'import requests'],\n",
       " 'functions': ['def detect_credential() -> Optional[str]:\\n    \"\"\",\\n    try:\\n        return cast(Optional[str], id.detect_credential(_DEFAULT_AUDIENCE))\\n    except id.IdentityError as exc:\\n        IdentityError.raise_from_id(exc)'],\n",
       " 'classes': ['class _OpenIDConfiguration(BaseModel):\\n    \"\"\",\\n\\n    authorization_endpoint: StrictStr\\n    token_endpoint: StrictStr',\n",
       "  'class ExpiredIdentity(Exception):\\n    \"\"\",',\n",
       "  'class IdentityToken:\\n    \"\"\",\\n\\n    def __init__(self, raw_token: str) -> None:\\n        \"\"\",\\n\\n        self._raw_token = raw_token\\n\\n        # NOTE: The lack of verification here is intentional, and is part of\\n        # Sigstore\\'s verification model: clients like sigstore-python are\\n        # responsible only for forwarding the OIDC identity to Fulcio for\\n        # certificate binding and issuance.\\n        try:\\n            self._unverified_claims = jwt.decode(\\n                raw_token,\\n                options={\\n                    \"verify_signature\": False,\\n                    \"verify_aud\": True,\\n                    \"verify_iat\": True,\\n                    \"verify_exp\": True,\\n                    # These claims are required by OpenID Connect, so\\n                    # we can strongly enforce their presence.\\n                    # See: https://openid.net/specs/openid-connect-basic-1_0.html#IDToken\\n                    \"require\": [\"aud\", \"sub\", \"iat\", \"exp\", \"iss\"],\\n                },\\n                audience=DEFAULT_AUDIENCE,\\n                # NOTE: This leeway shouldn\\'t be strictly necessary, but is\\n                # included to preempt any (small) skew between the host\\n                # and the originating IdP.\\n                leeway=5,\\n            )\\n        except Exception as exc:\\n            raise IdentityError(\\n                \"Identity token is malformed or missing claims\"\\n            ) from exc\\n\\n        self._iss: str = self._unverified_claims[\"iss\"]\\n        self._nbf: int | None = self._unverified_claims.get(\"nbf\")\\n        self._exp: int = self._unverified_claims[\"exp\"]\\n\\n        # Fail early if this token isn\\'t within its validity period.\\n        if not self.in_validity_period():\\n            raise IdentityError(\"Identity token is not within its validity period\")\\n\\n        # When verifying the private key possession proof, Fulcio uses\\n        # different claims depending on the token\\'s issuer.\\n        # We currently special-case a handful of these, and fall back\\n        # on signing the \"sub\" claim otherwise.\\n        identity_claim = _KNOWN_OIDC_ISSUERS.get(self.issuer)\\n        if identity_claim is not None:\\n            if identity_claim not in self._unverified_claims:\\n                raise IdentityError(\\n                    f\"Identity token is missing the required {identity_claim!r} claim\"\\n                )\\n\\n            self._identity = str(self._unverified_claims.get(identity_claim))\\n        else:\\n            try:\\n                self._identity = str(self._unverified_claims[\"sub\"])\\n            except KeyError:\\n                raise IdentityError(\\n                    \"Identity token is missing the required \\'sub\\' claim\"\\n                )\\n\\n        # This identity token might have been retrieved directly from\\n        # an identity provider, or it might be a \"federated\" identity token\\n        # retrieved from a federated IdP (e.g., Sigstore\\'s own Dex instance).\\n        # In the latter case, the claims will also include a `federated_claims`\\n        # set, which in turn should include a `connector_id` that reflects\\n        # the \"real\" token issuer. We retrieve this, despite technically\\n        # being an implementation detail, because it has value to client\\n        # users: a client might want to make sure that its user is identifying\\n        # with a *particular* IdP, which means that they need to pierce the\\n        # federation layer to check which IdP is actually being used.\\n        self._federated_issuer: str | None = None\\n        federated_claims = self._unverified_claims.get(\"federated_claims\")\\n        if federated_claims is not None:\\n            if not isinstance(federated_claims, dict):\\n                raise IdentityError(\\n                    \"unexpected claim type: federated_claims is not a dict\"\\n                )\\n\\n            federated_issuer = federated_claims.get(\"connector_id\")\\n            if federated_issuer is not None:\\n                if not isinstance(federated_issuer, str):\\n                    raise IdentityError(\\n                        \"unexpected claim type: federated_claims.connector_id is not a string\"\\n                    )\\n\\n                self._federated_issuer = federated_issuer\\n\\n    def in_validity_period(self) -> bool:\\n        \"\"\",\\n\\n        now = datetime.now(timezone.utc).timestamp()\\n\\n        if self._nbf is not None:\\n            return self._nbf <= now < self._exp\\n        else:\\n            return now < self._exp\\n\\n    @property\\n    def identity(self) -> str:\\n        \"\"\",\\n        return self._identity\\n\\n    @property\\n    def issuer(self) -> str:\\n        \"\"\",\\n        return self._iss\\n\\n    @property\\n    def expected_certificate_subject(self) -> str:\\n        \"\"\",\\n        if self._federated_issuer is not None:\\n            return self._federated_issuer\\n\\n        return self.issuer\\n\\n    def __str__(self) -> str:\\n        \"\"\",\\n        return self._raw_token',\n",
       "  'class IssuerError(Exception):\\n    \"\"\",\\n\\n    pass',\n",
       "  'class Issuer:\\n    \"\"\",\\n\\n    def __init__(self, base_url: str) -> None:\\n        \"\"\",\\n        oidc_config_url = urllib.parse.urljoin(\\n            f\"{base_url}/\", \".well-known/openid-configuration\"\\n        )\\n\\n        try:\\n            resp: requests.Response = requests.get(oidc_config_url, timeout=30)\\n        except (requests.ConnectionError, requests.Timeout) as exc:\\n            raise NetworkError from exc\\n\\n        try:\\n            resp.raise_for_status()\\n        except requests.HTTPError as http_error:\\n            raise IssuerError from http_error\\n\\n        try:\\n            # We don\\'t generally expect this to fail (since the provider should\\n            # return a non-success HTTP code which we catch above), but we\\n            # check just in case we have a misbehaving OIDC issuer.\\n            self.oidc_config = _OpenIDConfiguration.model_validate(resp.json())\\n        except ValueError as exc:\\n            raise IssuerError(f\"OIDC issuer returned invalid configuration: {exc}\")\\n\\n    @classmethod\\n    def production(cls) -> Issuer:\\n        \"\"\",\\n        return cls(DEFAULT_OAUTH_ISSUER_URL)\\n\\n    @classmethod\\n    def staging(cls) -> Issuer:\\n        \"\"\",\\n        return cls(STAGING_OAUTH_ISSUER_URL)\\n\\n    def identity_token(  # nosec: B107\\n        self,\\n        client_id: str = \"sigstore\",\\n        client_secret: str = \"\",\\n        force_oob: bool = False,\\n    ) -> IdentityToken:\\n        \"\"\",\\n\\n        # This function and the components that it relies on are based off of:\\n        # https://github.com/psteniusubi/python-sample\\n\\n        from sigstore._internal.oidc.oauth import _OAuthFlow\\n\\n        code: str\\n        with _OAuthFlow(client_id, client_secret, self) as server:\\n            # Launch web browser\\n            if not force_oob and webbrowser.open(server.base_uri):\\n                print(\"Waiting for browser interaction...\", file=sys.stderr)\\n            else:\\n                server.enable_oob()\\n                print(\\n                    f\"Go to the following link in a browser:\\\\n\\\\n\\\\t{server.auth_endpoint}\",\\n                    file=sys.stderr,\\n                )\\n\\n            if not server.is_oob():\\n                # Wait until the redirect server populates the response\\n                while server.auth_response is None:\\n                    time.sleep(0.1)\\n\\n                auth_error = server.auth_response.get(\"error\")\\n                if auth_error is not None:\\n                    raise IdentityError(\\n                        f\"Error response from auth endpoint: {auth_error[0]}\"\\n                    )\\n                code = server.auth_response[\"code\"][0]\\n            else:\\n                # In the out-of-band case, we wait until the user provides the code\\n                code = input(\"Enter verification code: \")\\n\\n        # Provide code to token endpoint\\n        data = {\\n            \"grant_type\": \"authorization_code\",\\n            \"redirect_uri\": server.redirect_uri,\\n            \"code\": code,\\n            \"code_verifier\": server.oauth_session.code_verifier,\\n        }\\n        auth = (\\n            client_id,\\n            client_secret,\\n        )\\n        logging.debug(f\"PAYLOAD: data={data}\")\\n        try:\\n            resp: requests.Response = requests.post(\\n                self.oidc_config.token_endpoint,\\n                data=data,\\n                auth=auth,\\n                timeout=30,\\n            )\\n        except (requests.ConnectionError, requests.Timeout) as exc:\\n            raise NetworkError from exc\\n\\n        try:\\n            resp.raise_for_status()\\n        except requests.HTTPError as http_error:\\n            raise IdentityError(\\n                f\"Token request failed with {resp.status_code}\"\\n            ) from http_error\\n\\n        token_json = resp.json()\\n        token_error = token_json.get(\"error\")\\n        if token_error is not None:\\n            raise IdentityError(f\"Error response from token endpoint: {token_error}\")\\n\\n        return IdentityToken(token_json[\"access_token\"])',\n",
       "  'class IdentityError(Error):\\n    \"\"\",\\n\\n    @classmethod\\n    def raise_from_id(cls, exc: id.IdentityError) -> NoReturn:\\n        \"\"\",\\n        raise cls(str(exc)) from exc\\n\\n    def diagnostics(self) -> str:\\n        \"\"\",\\n        if isinstance(self.__cause__, id.GitHubOidcPermissionCredentialError):\\n            return f\"\"\"\\n                Insufficient permissions for GitHub Actions workflow.\\n\\n                The most common reason for this is incorrect\\n                configuration of the top-level `permissions` setting of the\\n                workflow YAML file. It should be configured like so:\\n\\n                    permissions:\\n                      id-token: write\\n\\n                Relevant documentation here:\\n\\n                    https://docs.github.com/en/actions/deployment/security-hardening-your-deployments/about-security-hardening-with-openid-connect#adding-permissions-settings\\n\\n                Another possible reason is that the workflow run has been\\n                triggered by a PR from a forked repository. PRs from forked\\n                repositories typically cannot be granted write access.\\n\\n                Relevant documentation here:\\n\\n                    https://docs.github.com/en/actions/security-guides/automatic-token-authentication#modifying-the-permissions-for-the-github_token\\n\\n                Additional context:\\n\\n                {self.__cause__}\\n                \"\"\"\\n        else:\\n            return f\"\"\"\\n                An issue occurred with ambient credential detection.\\n\\n                Additional context:\\n\\n                {self}\\n            \"\"\"'],\n",
       " 'documentation': ['\"\"\"\\nAPI for retrieving OIDC tokens.\\n\"\"\"'],\n",
       " 'other': ['# Copyright 2022 The Sigstore Authors',\n",
       "  '#',\n",
       "  '# Licensed under the Apache License, Version 2.0 (the \"License\");',\n",
       "  '# you may not use this file except in compliance with the License.',\n",
       "  '# You may obtain a copy of the License at',\n",
       "  '#',\n",
       "  '#      http://www.apache.org/licenses/LICENSE-2.0',\n",
       "  '#',\n",
       "  '# Unless required by applicable law or agreed to in writing, software',\n",
       "  '# distributed under the License is distributed on an \"AS IS\" BASIS,',\n",
       "  '# WITHOUT WARRANTIES OR CONDITIONS OF ANY KIND, either express or implied.',\n",
       "  '# See the License for the specific language governing permissions and',\n",
       "  '# limitations under the License.',\n",
       "  'from __future__ import annotations',\n",
       "  'from datetime import datetime, timezone',\n",
       "  'from typing import NoReturn, Optional, cast',\n",
       "  'from pydantic import BaseModel, StrictStr',\n",
       "  'from sigstore.errors import Error, NetworkError',\n",
       "  'DEFAULT_OAUTH_ISSUER_URL = \"https://oauth2.sigstore.dev/auth\"',\n",
       "  'STAGING_OAUTH_ISSUER_URL = \"https://oauth2.sigstage.dev/auth\"',\n",
       "  '# See: https://github.com/sigstore/fulcio/blob/b2186c0/pkg/config/config.go#L182-L201',\n",
       "  '_KNOWN_OIDC_ISSUERS = {\\n    \"https://accounts.google.com\": \"email\",\\n    \"https://oauth2.sigstore.dev/auth\": \"email\",\\n    \"https://oauth2.sigstage.dev/auth\": \"email\",\\n    \"https://token.actions.githubusercontent.com\": \"sub\",\\n}',\n",
       "  '_DEFAULT_AUDIENCE = \"sigstore\"',\n",
       "  '# See: https://github.com/sigstore/fulcio/blob/b2186c0/pkg/config/config.go#L182-L201',\n",
       "  '_KNOWN_OIDC_ISSUERS = {\\n    \"https://accounts.google.com\": \"email\",\\n    \"https://oauth2.sigstore.dev/auth\": \"email\",\\n    \"https://oauth2.sigstage.dev/auth\": \"email\",\\n    \"https://token.actions.githubusercontent.com\": \"sub\",\\n}',\n",
       "  'DEFAULT_AUDIENCE = \"sigstore\"'],\n",
       " 'functions_code': ['def detect_credential() -> Optional[str]:\\n    \"\"\",\\n    try:\\n        return cast(Optional[str], id.detect_credential(_DEFAULT_AUDIENCE))\\n    except id.IdentityError as exc:\\n        IdentityError.raise_from_id(exc)'],\n",
       " 'functions_docstrings': ['Calls `id.detect_credential`, but wraps exceptions with our own exception type.'],\n",
       " 'classes_code': ['class _OpenIDConfiguration(BaseModel):\\n    \"\"\",\\n\\n    authorization_endpoint: StrictStr\\n    token_endpoint: StrictStr',\n",
       "  'class ExpiredIdentity(Exception):\\n    \"\"\",',\n",
       "  'class IdentityToken:\\n    \"\"\",\\n\\n    def __init__(self, raw_token: str) -> None:\\n        \"\"\",\\n\\n        self._raw_token = raw_token\\n\\n        # NOTE: The lack of verification here is intentional, and is part of\\n        # Sigstore\\'s verification model: clients like sigstore-python are\\n        # responsible only for forwarding the OIDC identity to Fulcio for\\n        # certificate binding and issuance.\\n        try:\\n            self._unverified_claims = jwt.decode(\\n                raw_token,\\n                options={\\n                    \"verify_signature\": False,\\n                    \"verify_aud\": True,\\n                    \"verify_iat\": True,\\n                    \"verify_exp\": True,\\n                    # These claims are required by OpenID Connect, so\\n                    # we can strongly enforce their presence.\\n                    # See: https://openid.net/specs/openid-connect-basic-1_0.html#IDToken\\n                    \"require\": [\"aud\", \"sub\", \"iat\", \"exp\", \"iss\"],\\n                },\\n                audience=DEFAULT_AUDIENCE,\\n                # NOTE: This leeway shouldn\\'t be strictly necessary, but is\\n                # included to preempt any (small) skew between the host\\n                # and the originating IdP.\\n                leeway=5,\\n            )\\n        except Exception as exc:\\n            raise IdentityError(\\n                \"Identity token is malformed or missing claims\"\\n            ) from exc\\n\\n        self._iss: str = self._unverified_claims[\"iss\"]\\n        self._nbf: int | None = self._unverified_claims.get(\"nbf\")\\n        self._exp: int = self._unverified_claims[\"exp\"]\\n\\n        # Fail early if this token isn\\'t within its validity period.\\n        if not self.in_validity_period():\\n            raise IdentityError(\"Identity token is not within its validity period\")\\n\\n        # When verifying the private key possession proof, Fulcio uses\\n        # different claims depending on the token\\'s issuer.\\n        # We currently special-case a handful of these, and fall back\\n        # on signing the \"sub\" claim otherwise.\\n        identity_claim = _KNOWN_OIDC_ISSUERS.get(self.issuer)\\n        if identity_claim is not None:\\n            if identity_claim not in self._unverified_claims:\\n                raise IdentityError(\\n                    f\"Identity token is missing the required {identity_claim!r} claim\"\\n                )\\n\\n            self._identity = str(self._unverified_claims.get(identity_claim))\\n        else:\\n            try:\\n                self._identity = str(self._unverified_claims[\"sub\"])\\n            except KeyError:\\n                raise IdentityError(\\n                    \"Identity token is missing the required \\'sub\\' claim\"\\n                )\\n\\n        # This identity token might have been retrieved directly from\\n        # an identity provider, or it might be a \"federated\" identity token\\n        # retrieved from a federated IdP (e.g., Sigstore\\'s own Dex instance).\\n        # In the latter case, the claims will also include a `federated_claims`\\n        # set, which in turn should include a `connector_id` that reflects\\n        # the \"real\" token issuer. We retrieve this, despite technically\\n        # being an implementation detail, because it has value to client\\n        # users: a client might want to make sure that its user is identifying\\n        # with a *particular* IdP, which means that they need to pierce the\\n        # federation layer to check which IdP is actually being used.\\n        self._federated_issuer: str | None = None\\n        federated_claims = self._unverified_claims.get(\"federated_claims\")\\n        if federated_claims is not None:\\n            if not isinstance(federated_claims, dict):\\n                raise IdentityError(\\n                    \"unexpected claim type: federated_claims is not a dict\"\\n                )\\n\\n            federated_issuer = federated_claims.get(\"connector_id\")\\n            if federated_issuer is not None:\\n                if not isinstance(federated_issuer, str):\\n                    raise IdentityError(\\n                        \"unexpected claim type: federated_claims.connector_id is not a string\"\\n                    )\\n\\n                self._federated_issuer = federated_issuer\\n\\n    def in_validity_period(self) -> bool:\\n        \"\"\",\\n\\n        now = datetime.now(timezone.utc).timestamp()\\n\\n        if self._nbf is not None:\\n            return self._nbf <= now < self._exp\\n        else:\\n            return now < self._exp\\n\\n    @property\\n    def identity(self) -> str:\\n        \"\"\",\\n        return self._identity\\n\\n    @property\\n    def issuer(self) -> str:\\n        \"\"\",\\n        return self._iss\\n\\n    @property\\n    def expected_certificate_subject(self) -> str:\\n        \"\"\",\\n        if self._federated_issuer is not None:\\n            return self._federated_issuer\\n\\n        return self.issuer\\n\\n    def __str__(self) -> str:\\n        \"\"\",\\n        return self._raw_token',\n",
       "  'class IssuerError(Exception):\\n    \"\"\",\\n\\n    pass',\n",
       "  'class Issuer:\\n    \"\"\",\\n\\n    def __init__(self, base_url: str) -> None:\\n        \"\"\",\\n        oidc_config_url = urllib.parse.urljoin(\\n            f\"{base_url}/\", \".well-known/openid-configuration\"\\n        )\\n\\n        try:\\n            resp: requests.Response = requests.get(oidc_config_url, timeout=30)\\n        except (requests.ConnectionError, requests.Timeout) as exc:\\n            raise NetworkError from exc\\n\\n        try:\\n            resp.raise_for_status()\\n        except requests.HTTPError as http_error:\\n            raise IssuerError from http_error\\n\\n        try:\\n            # We don\\'t generally expect this to fail (since the provider should\\n            # return a non-success HTTP code which we catch above), but we\\n            # check just in case we have a misbehaving OIDC issuer.\\n            self.oidc_config = _OpenIDConfiguration.model_validate(resp.json())\\n        except ValueError as exc:\\n            raise IssuerError(f\"OIDC issuer returned invalid configuration: {exc}\")\\n\\n    @classmethod\\n    def production(cls) -> Issuer:\\n        \"\"\",\\n        return cls(DEFAULT_OAUTH_ISSUER_URL)\\n\\n    @classmethod\\n    def staging(cls) -> Issuer:\\n        \"\"\",\\n        return cls(STAGING_OAUTH_ISSUER_URL)\\n\\n    def identity_token(  # nosec: B107\\n        self,\\n        client_id: str = \"sigstore\",\\n        client_secret: str = \"\",\\n        force_oob: bool = False,\\n    ) -> IdentityToken:\\n        \"\"\",\\n\\n        # This function and the components that it relies on are based off of:\\n        # https://github.com/psteniusubi/python-sample\\n\\n        from sigstore._internal.oidc.oauth import _OAuthFlow\\n\\n        code: str\\n        with _OAuthFlow(client_id, client_secret, self) as server:\\n            # Launch web browser\\n            if not force_oob and webbrowser.open(server.base_uri):\\n                print(\"Waiting for browser interaction...\", file=sys.stderr)\\n            else:\\n                server.enable_oob()\\n                print(\\n                    f\"Go to the following link in a browser:\\\\n\\\\n\\\\t{server.auth_endpoint}\",\\n                    file=sys.stderr,\\n                )\\n\\n            if not server.is_oob():\\n                # Wait until the redirect server populates the response\\n                while server.auth_response is None:\\n                    time.sleep(0.1)\\n\\n                auth_error = server.auth_response.get(\"error\")\\n                if auth_error is not None:\\n                    raise IdentityError(\\n                        f\"Error response from auth endpoint: {auth_error[0]}\"\\n                    )\\n                code = server.auth_response[\"code\"][0]\\n            else:\\n                # In the out-of-band case, we wait until the user provides the code\\n                code = input(\"Enter verification code: \")\\n\\n        # Provide code to token endpoint\\n        data = {\\n            \"grant_type\": \"authorization_code\",\\n            \"redirect_uri\": server.redirect_uri,\\n            \"code\": code,\\n            \"code_verifier\": server.oauth_session.code_verifier,\\n        }\\n        auth = (\\n            client_id,\\n            client_secret,\\n        )\\n        logging.debug(f\"PAYLOAD: data={data}\")\\n        try:\\n            resp: requests.Response = requests.post(\\n                self.oidc_config.token_endpoint,\\n                data=data,\\n                auth=auth,\\n                timeout=30,\\n            )\\n        except (requests.ConnectionError, requests.Timeout) as exc:\\n            raise NetworkError from exc\\n\\n        try:\\n            resp.raise_for_status()\\n        except requests.HTTPError as http_error:\\n            raise IdentityError(\\n                f\"Token request failed with {resp.status_code}\"\\n            ) from http_error\\n\\n        token_json = resp.json()\\n        token_error = token_json.get(\"error\")\\n        if token_error is not None:\\n            raise IdentityError(f\"Error response from token endpoint: {token_error}\")\\n\\n        return IdentityToken(token_json[\"access_token\"])',\n",
       "  'class IdentityError(Error):\\n    \"\"\",\\n\\n    @classmethod\\n    def raise_from_id(cls, exc: id.IdentityError) -> NoReturn:\\n        \"\"\",\\n        raise cls(str(exc)) from exc\\n\\n    def diagnostics(self) -> str:\\n        \"\"\",\\n        if isinstance(self.__cause__, id.GitHubOidcPermissionCredentialError):\\n            return f\"\"\"\\n                Insufficient permissions for GitHub Actions workflow.\\n\\n                The most common reason for this is incorrect\\n                configuration of the top-level `permissions` setting of the\\n                workflow YAML file. It should be configured like so:\\n\\n                    permissions:\\n                      id-token: write\\n\\n                Relevant documentation here:\\n\\n                    https://docs.github.com/en/actions/deployment/security-hardening-your-deployments/about-security-hardening-with-openid-connect#adding-permissions-settings\\n\\n                Another possible reason is that the workflow run has been\\n                triggered by a PR from a forked repository. PRs from forked\\n                repositories typically cannot be granted write access.\\n\\n                Relevant documentation here:\\n\\n                    https://docs.github.com/en/actions/security-guides/automatic-token-authentication#modifying-the-permissions-for-the-github_token\\n\\n                Additional context:\\n\\n                {self.__cause__}\\n                \"\"\"\\n        else:\\n            return f\"\"\"\\n                An issue occurred with ambient credential detection.\\n\\n                Additional context:\\n\\n                {self}\\n            \"\"\"'],\n",
       " 'classes_docstrings': [\"\\n    Represents a (subset) of the fields provided by an OpenID Connect provider's\\n    `.well-known/openid-configuration` response, as defined by OpenID Connect Discovery.\\n\\n    See: <https://openid.net/specs/openid-connect-discovery-1_0.html>\\n    \",\n",
       "  'An error raised when an identity token is expired.',\n",
       "  '\\n    An OIDC \"identity\", corresponding to an underlying OIDC token with\\n    a sensible subject, issuer, and audience for Sigstore purposes.\\n    ',\n",
       "  '\\n        Create a new `IdentityToken` from the given OIDC token.\\n        ',\n",
       "  \"\\n        Returns whether or not this `Identity` is currently within its self-stated validity period.\\n\\n        NOTE: As noted in `Identity.__init__`, this is not a verifying wrapper;\\n        the check here only asserts whether the *unverified* identity's claims\\n        are within their validity period.\\n        \",\n",
       "  '\\n        Returns this `IdentityToken`\\'s underlying \"subject\".\\n\\n        Note that this is **not** always the `sub` claim in the corresponding\\n        identity token: depending onm the token\\'s issuer, it may be a *different*\\n        claim, such as `email`. This corresponds to the Sigstore ecosystem\\'s\\n        behavior, e.g. in each issued certificate\\'s SAN.\\n        ',\n",
       "  \"\\n        Returns a URL identifying this `IdentityToken`'s issuer.\\n        \",\n",
       "  \"\\n        Returns a URL identifying the **expected** subject for any Sigstore\\n        certificate issued against this identity token.\\n\\n        The behavior of this field is slightly subtle: for non-federated\\n        identity providers (like a token issued directly by Google's IdP) it\\n        should be exactly equivalent to `IdentityToken.issuer`. For federated\\n        issuers (like Sigstore's own federated IdP) it should be equivalent to\\n        the underlying federated issuer's URL, which is kept in an\\n        implementation-defined claim.\\n\\n        This attribute exists so that clients who wish to inspect the expected\\n        subject of their certificates can do so without relying on\\n        implementation-specific behavior.\\n        \",\n",
       "  '\\n        Returns the underlying OIDC token for this identity.\\n\\n        That this token is secret in nature and **MUST NOT** be disclosed.\\n        ',\n",
       "  '\\n    Raised on any communication or format error with an OIDC issuer.\\n    ',\n",
       "  '\\n    Represents an OIDC issuer (IdP).\\n    ',\n",
       "  \"\\n        Create a new `Issuer` from the given base URL.\\n\\n        This URL is used to locate an OpenID Connect configuration file,\\n        which is then used to bootstrap the issuer's state (such\\n        as authorization and token endpoints).\\n        \",\n",
       "  \"\\n        Returns an `Issuer` configured against Sigstore's production-level services.\\n        \",\n",
       "  \"\\n        Returns an `Issuer` configured against Sigstore's staging-level services.\\n        \",\n",
       "  \"\\n        Retrieves and returns an `IdentityToken` from the current `Issuer`, via OAuth.\\n\\n        This function blocks on user interaction.\\n\\n        The `force_oob` flag controls the kind of flow performed. When `False` (the default),\\n        this function attempts to open the user's web browser before falling back to\\n        an out-of-band flow. When `True`, the out-of-band flow is always used.\\n        \",\n",
       "  \"\\n    Wraps `id`'s IdentityError.\\n    \",\n",
       "  'Raises a wrapped IdentityError from the provided `id.IdentityError`.',\n",
       "  'Returns diagnostics for the error.']}"
      ]
     },
     "execution_count": 22,
     "metadata": {},
     "output_type": "execute_result"
    }
   ],
   "source": [
    "data[\"oidc\"][\"code_chunks\"]"
   ]
  },
  {
   "cell_type": "code",
   "execution_count": 23,
   "id": "6b49f9db-05da-4a6f-b0e3-e0ac109e2946",
   "metadata": {},
   "outputs": [
    {
     "data": {
      "text/plain": [
       "{'imports': ['import logging',\n",
       "  'import sys',\n",
       "  'import time',\n",
       "  'import urllib.parse',\n",
       "  'import webbrowser',\n",
       "  'import id',\n",
       "  'import jwt',\n",
       "  'import requests'],\n",
       " 'functions': ['def detect_credential() -> Optional[str]:\\n    \"\"\",\\n    try:\\n        return cast(Optional[str], id.detect_credential(_DEFAULT_AUDIENCE))\\n    except id.IdentityError as exc:\\n        IdentityError.raise_from_id(exc)'],\n",
       " 'classes': ['class _OpenIDConfiguration(BaseModel):\\n    \"\"\",\\n\\n    authorization_endpoint: StrictStr\\n    token_endpoint: StrictStr',\n",
       "  'class ExpiredIdentity(Exception):\\n    \"\"\",',\n",
       "  'class IdentityToken:\\n    \"\"\",\\n\\n    def __init__(self, raw_token: str) -> None:\\n        \"\"\",\\n\\n        self._raw_token = raw_token\\n\\n        # NOTE: The lack of verification here is intentional, and is part of\\n        # Sigstore\\'s verification model: clients like sigstore-python are\\n        # responsible only for forwarding the OIDC identity to Fulcio for\\n        # certificate binding and issuance.\\n        try:\\n            self._unverified_claims = jwt.decode(\\n                raw_token,\\n                options={\\n                    \"verify_signature\": False,\\n                    \"verify_aud\": True,\\n                    \"verify_iat\": True,\\n                    \"verify_exp\": True,\\n                    # These claims are required by OpenID Connect, so\\n                    # we can strongly enforce their presence.\\n                    # See: https://openid.net/specs/openid-connect-basic-1_0.html#IDToken\\n                    \"require\": [\"aud\", \"sub\", \"iat\", \"exp\", \"iss\"],\\n                },\\n                audience=DEFAULT_AUDIENCE,\\n                # NOTE: This leeway shouldn\\'t be strictly necessary, but is\\n                # included to preempt any (small) skew between the host\\n                # and the originating IdP.\\n                leeway=5,\\n            )\\n        except Exception as exc:\\n            raise IdentityError(\\n                \"Identity token is malformed or missing claims\"\\n            ) from exc\\n\\n        self._iss: str = self._unverified_claims[\"iss\"]\\n        self._nbf: int | None = self._unverified_claims.get(\"nbf\")\\n        self._exp: int = self._unverified_claims[\"exp\"]\\n\\n        # Fail early if this token isn\\'t within its validity period.\\n        if not self.in_validity_period():\\n            raise IdentityError(\"Identity token is not within its validity period\")\\n\\n        # When verifying the private key possession proof, Fulcio uses\\n        # different claims depending on the token\\'s issuer.\\n        # We currently special-case a handful of these, and fall back\\n        # on signing the \"sub\" claim otherwise.\\n        identity_claim = _KNOWN_OIDC_ISSUERS.get(self.issuer)\\n        if identity_claim is not None:\\n            if identity_claim not in self._unverified_claims:\\n                raise IdentityError(\\n                    f\"Identity token is missing the required {identity_claim!r} claim\"\\n                )\\n\\n            self._identity = str(self._unverified_claims.get(identity_claim))\\n        else:\\n            try:\\n                self._identity = str(self._unverified_claims[\"sub\"])\\n            except KeyError:\\n                raise IdentityError(\\n                    \"Identity token is missing the required \\'sub\\' claim\"\\n                )\\n\\n        # This identity token might have been retrieved directly from\\n        # an identity provider, or it might be a \"federated\" identity token\\n        # retrieved from a federated IdP (e.g., Sigstore\\'s own Dex instance).\\n        # In the latter case, the claims will also include a `federated_claims`\\n        # set, which in turn should include a `connector_id` that reflects\\n        # the \"real\" token issuer. We retrieve this, despite technically\\n        # being an implementation detail, because it has value to client\\n        # users: a client might want to make sure that its user is identifying\\n        # with a *particular* IdP, which means that they need to pierce the\\n        # federation layer to check which IdP is actually being used.\\n        self._federated_issuer: str | None = None\\n        federated_claims = self._unverified_claims.get(\"federated_claims\")\\n        if federated_claims is not None:\\n            if not isinstance(federated_claims, dict):\\n                raise IdentityError(\\n                    \"unexpected claim type: federated_claims is not a dict\"\\n                )\\n\\n            federated_issuer = federated_claims.get(\"connector_id\")\\n            if federated_issuer is not None:\\n                if not isinstance(federated_issuer, str):\\n                    raise IdentityError(\\n                        \"unexpected claim type: federated_claims.connector_id is not a string\"\\n                    )\\n\\n                self._federated_issuer = federated_issuer\\n\\n    def in_validity_period(self) -> bool:\\n        \"\"\",\\n\\n        now = datetime.now(timezone.utc).timestamp()\\n\\n        if self._nbf is not None:\\n            return self._nbf <= now < self._exp\\n        else:\\n            return now < self._exp\\n\\n    @property\\n    def identity(self) -> str:\\n        \"\"\",\\n        return self._identity\\n\\n    @property\\n    def issuer(self) -> str:\\n        \"\"\",\\n        return self._iss\\n\\n    @property\\n    def expected_certificate_subject(self) -> str:\\n        \"\"\",\\n        if self._federated_issuer is not None:\\n            return self._federated_issuer\\n\\n        return self.issuer\\n\\n    def __str__(self) -> str:\\n        \"\"\",\\n        return self._raw_token',\n",
       "  'class IssuerError(Exception):\\n    \"\"\",\\n\\n    pass',\n",
       "  'class Issuer:\\n    \"\"\",\\n\\n    def __init__(self, base_url: str) -> None:\\n        \"\"\",\\n        oidc_config_url = urllib.parse.urljoin(\\n            f\"{base_url}/\", \".well-known/openid-configuration\"\\n        )\\n\\n        try:\\n            resp: requests.Response = requests.get(oidc_config_url, timeout=30)\\n        except (requests.ConnectionError, requests.Timeout) as exc:\\n            raise NetworkError from exc\\n\\n        try:\\n            resp.raise_for_status()\\n        except requests.HTTPError as http_error:\\n            raise IssuerError from http_error\\n\\n        try:\\n            # We don\\'t generally expect this to fail (since the provider should\\n            # return a non-success HTTP code which we catch above), but we\\n            # check just in case we have a misbehaving OIDC issuer.\\n            self.oidc_config = _OpenIDConfiguration.model_validate(resp.json())\\n        except ValueError as exc:\\n            raise IssuerError(f\"OIDC issuer returned invalid configuration: {exc}\")\\n\\n    @classmethod\\n    def production(cls) -> Issuer:\\n        \"\"\",\\n        return cls(DEFAULT_OAUTH_ISSUER_URL)\\n\\n    @classmethod\\n    def staging(cls) -> Issuer:\\n        \"\"\",\\n        return cls(STAGING_OAUTH_ISSUER_URL)\\n\\n    def identity_token(  # nosec: B107\\n        self,\\n        client_id: str = \"sigstore\",\\n        client_secret: str = \"\",\\n        force_oob: bool = False,\\n    ) -> IdentityToken:\\n        \"\"\",\\n\\n        # This function and the components that it relies on are based off of:\\n        # https://github.com/psteniusubi/python-sample\\n\\n        from sigstore._internal.oidc.oauth import _OAuthFlow\\n\\n        code: str\\n        with _OAuthFlow(client_id, client_secret, self) as server:\\n            # Launch web browser\\n            if not force_oob and webbrowser.open(server.base_uri):\\n                print(\"Waiting for browser interaction...\", file=sys.stderr)\\n            else:\\n                server.enable_oob()\\n                print(\\n                    f\"Go to the following link in a browser:\\\\n\\\\n\\\\t{server.auth_endpoint}\",\\n                    file=sys.stderr,\\n                )\\n\\n            if not server.is_oob():\\n                # Wait until the redirect server populates the response\\n                while server.auth_response is None:\\n                    time.sleep(0.1)\\n\\n                auth_error = server.auth_response.get(\"error\")\\n                if auth_error is not None:\\n                    raise IdentityError(\\n                        f\"Error response from auth endpoint: {auth_error[0]}\"\\n                    )\\n                code = server.auth_response[\"code\"][0]\\n            else:\\n                # In the out-of-band case, we wait until the user provides the code\\n                code = input(\"Enter verification code: \")\\n\\n        # Provide code to token endpoint\\n        data = {\\n            \"grant_type\": \"authorization_code\",\\n            \"redirect_uri\": server.redirect_uri,\\n            \"code\": code,\\n            \"code_verifier\": server.oauth_session.code_verifier,\\n        }\\n        auth = (\\n            client_id,\\n            client_secret,\\n        )\\n        logging.debug(f\"PAYLOAD: data={data}\")\\n        try:\\n            resp: requests.Response = requests.post(\\n                self.oidc_config.token_endpoint,\\n                data=data,\\n                auth=auth,\\n                timeout=30,\\n            )\\n        except (requests.ConnectionError, requests.Timeout) as exc:\\n            raise NetworkError from exc\\n\\n        try:\\n            resp.raise_for_status()\\n        except requests.HTTPError as http_error:\\n            raise IdentityError(\\n                f\"Token request failed with {resp.status_code}\"\\n            ) from http_error\\n\\n        token_json = resp.json()\\n        token_error = token_json.get(\"error\")\\n        if token_error is not None:\\n            raise IdentityError(f\"Error response from token endpoint: {token_error}\")\\n\\n        return IdentityToken(token_json[\"access_token\"])',\n",
       "  'class IdentityError(Error):\\n    \"\"\",\\n\\n    @classmethod\\n    def raise_from_id(cls, exc: id.IdentityError) -> NoReturn:\\n        \"\"\",\\n        raise cls(str(exc)) from exc\\n\\n    def diagnostics(self) -> str:\\n        \"\"\",\\n        if isinstance(self.__cause__, id.GitHubOidcPermissionCredentialError):\\n            return f\"\"\"\\n                Insufficient permissions for GitHub Actions workflow.\\n\\n                The most common reason for this is incorrect\\n                configuration of the top-level `permissions` setting of the\\n                workflow YAML file. It should be configured like so:\\n\\n                    permissions:\\n                      id-token: write\\n\\n                Relevant documentation here:\\n\\n                    https://docs.github.com/en/actions/deployment/security-hardening-your-deployments/about-security-hardening-with-openid-connect#adding-permissions-settings\\n\\n                Another possible reason is that the workflow run has been\\n                triggered by a PR from a forked repository. PRs from forked\\n                repositories typically cannot be granted write access.\\n\\n                Relevant documentation here:\\n\\n                    https://docs.github.com/en/actions/security-guides/automatic-token-authentication#modifying-the-permissions-for-the-github_token\\n\\n                Additional context:\\n\\n                {self.__cause__}\\n                \"\"\"\\n        else:\\n            return f\"\"\"\\n                An issue occurred with ambient credential detection.\\n\\n                Additional context:\\n\\n                {self}\\n            \"\"\"'],\n",
       " 'documentation': ['\"\"\"\\nAPI for retrieving OIDC tokens.\\n\"\"\"'],\n",
       " 'other': ['# Copyright 2022 The Sigstore Authors',\n",
       "  '#',\n",
       "  '# Licensed under the Apache License, Version 2.0 (the \"License\");',\n",
       "  '# you may not use this file except in compliance with the License.',\n",
       "  '# You may obtain a copy of the License at',\n",
       "  '#',\n",
       "  '#      http://www.apache.org/licenses/LICENSE-2.0',\n",
       "  '#',\n",
       "  '# Unless required by applicable law or agreed to in writing, software',\n",
       "  '# distributed under the License is distributed on an \"AS IS\" BASIS,',\n",
       "  '# WITHOUT WARRANTIES OR CONDITIONS OF ANY KIND, either express or implied.',\n",
       "  '# See the License for the specific language governing permissions and',\n",
       "  '# limitations under the License.',\n",
       "  'from __future__ import annotations',\n",
       "  'from datetime import datetime, timezone',\n",
       "  'from typing import NoReturn, Optional, cast',\n",
       "  'from pydantic import BaseModel, StrictStr',\n",
       "  'from sigstore.errors import Error, NetworkError',\n",
       "  'DEFAULT_OAUTH_ISSUER_URL = \"https://oauth2.sigstore.dev/auth\"',\n",
       "  'STAGING_OAUTH_ISSUER_URL = \"https://oauth2.sigstage.dev/auth\"',\n",
       "  '# See: https://github.com/sigstore/fulcio/blob/b2186c0/pkg/config/config.go#L182-L201',\n",
       "  '_KNOWN_OIDC_ISSUERS = {\\n    \"https://accounts.google.com\": \"email\",\\n    \"https://oauth2.sigstore.dev/auth\": \"email\",\\n    \"https://oauth2.sigstage.dev/auth\": \"email\",\\n    \"https://token.actions.githubusercontent.com\": \"sub\",\\n}',\n",
       "  '_DEFAULT_AUDIENCE = \"sigstore\"',\n",
       "  '# See: https://github.com/sigstore/fulcio/blob/b2186c0/pkg/config/config.go#L182-L201',\n",
       "  '_KNOWN_OIDC_ISSUERS = {\\n    \"https://accounts.google.com\": \"email\",\\n    \"https://oauth2.sigstore.dev/auth\": \"email\",\\n    \"https://oauth2.sigstage.dev/auth\": \"email\",\\n    \"https://token.actions.githubusercontent.com\": \"sub\",\\n}',\n",
       "  'DEFAULT_AUDIENCE = \"sigstore\"'],\n",
       " 'functions_code': ['def detect_credential() -> Optional[str]:\\n    \"\"\",\\n    try:\\n        return cast(Optional[str], id.detect_credential(_DEFAULT_AUDIENCE))\\n    except id.IdentityError as exc:\\n        IdentityError.raise_from_id(exc)'],\n",
       " 'functions_docstrings': ['Calls `id.detect_credential`, but wraps exceptions with our own exception type.'],\n",
       " 'classes_code': ['class _OpenIDConfiguration(BaseModel):\\n    \"\"\",\\n\\n    authorization_endpoint: StrictStr\\n    token_endpoint: StrictStr',\n",
       "  'class ExpiredIdentity(Exception):\\n    \"\"\",',\n",
       "  'class IdentityToken:\\n    \"\"\",\\n\\n    def __init__(self, raw_token: str) -> None:\\n        \"\"\",\\n\\n        self._raw_token = raw_token\\n\\n        # NOTE: The lack of verification here is intentional, and is part of\\n        # Sigstore\\'s verification model: clients like sigstore-python are\\n        # responsible only for forwarding the OIDC identity to Fulcio for\\n        # certificate binding and issuance.\\n        try:\\n            self._unverified_claims = jwt.decode(\\n                raw_token,\\n                options={\\n                    \"verify_signature\": False,\\n                    \"verify_aud\": True,\\n                    \"verify_iat\": True,\\n                    \"verify_exp\": True,\\n                    # These claims are required by OpenID Connect, so\\n                    # we can strongly enforce their presence.\\n                    # See: https://openid.net/specs/openid-connect-basic-1_0.html#IDToken\\n                    \"require\": [\"aud\", \"sub\", \"iat\", \"exp\", \"iss\"],\\n                },\\n                audience=DEFAULT_AUDIENCE,\\n                # NOTE: This leeway shouldn\\'t be strictly necessary, but is\\n                # included to preempt any (small) skew between the host\\n                # and the originating IdP.\\n                leeway=5,\\n            )\\n        except Exception as exc:\\n            raise IdentityError(\\n                \"Identity token is malformed or missing claims\"\\n            ) from exc\\n\\n        self._iss: str = self._unverified_claims[\"iss\"]\\n        self._nbf: int | None = self._unverified_claims.get(\"nbf\")\\n        self._exp: int = self._unverified_claims[\"exp\"]\\n\\n        # Fail early if this token isn\\'t within its validity period.\\n        if not self.in_validity_period():\\n            raise IdentityError(\"Identity token is not within its validity period\")\\n\\n        # When verifying the private key possession proof, Fulcio uses\\n        # different claims depending on the token\\'s issuer.\\n        # We currently special-case a handful of these, and fall back\\n        # on signing the \"sub\" claim otherwise.\\n        identity_claim = _KNOWN_OIDC_ISSUERS.get(self.issuer)\\n        if identity_claim is not None:\\n            if identity_claim not in self._unverified_claims:\\n                raise IdentityError(\\n                    f\"Identity token is missing the required {identity_claim!r} claim\"\\n                )\\n\\n            self._identity = str(self._unverified_claims.get(identity_claim))\\n        else:\\n            try:\\n                self._identity = str(self._unverified_claims[\"sub\"])\\n            except KeyError:\\n                raise IdentityError(\\n                    \"Identity token is missing the required \\'sub\\' claim\"\\n                )\\n\\n        # This identity token might have been retrieved directly from\\n        # an identity provider, or it might be a \"federated\" identity token\\n        # retrieved from a federated IdP (e.g., Sigstore\\'s own Dex instance).\\n        # In the latter case, the claims will also include a `federated_claims`\\n        # set, which in turn should include a `connector_id` that reflects\\n        # the \"real\" token issuer. We retrieve this, despite technically\\n        # being an implementation detail, because it has value to client\\n        # users: a client might want to make sure that its user is identifying\\n        # with a *particular* IdP, which means that they need to pierce the\\n        # federation layer to check which IdP is actually being used.\\n        self._federated_issuer: str | None = None\\n        federated_claims = self._unverified_claims.get(\"federated_claims\")\\n        if federated_claims is not None:\\n            if not isinstance(federated_claims, dict):\\n                raise IdentityError(\\n                    \"unexpected claim type: federated_claims is not a dict\"\\n                )\\n\\n            federated_issuer = federated_claims.get(\"connector_id\")\\n            if federated_issuer is not None:\\n                if not isinstance(federated_issuer, str):\\n                    raise IdentityError(\\n                        \"unexpected claim type: federated_claims.connector_id is not a string\"\\n                    )\\n\\n                self._federated_issuer = federated_issuer\\n\\n    def in_validity_period(self) -> bool:\\n        \"\"\",\\n\\n        now = datetime.now(timezone.utc).timestamp()\\n\\n        if self._nbf is not None:\\n            return self._nbf <= now < self._exp\\n        else:\\n            return now < self._exp\\n\\n    @property\\n    def identity(self) -> str:\\n        \"\"\",\\n        return self._identity\\n\\n    @property\\n    def issuer(self) -> str:\\n        \"\"\",\\n        return self._iss\\n\\n    @property\\n    def expected_certificate_subject(self) -> str:\\n        \"\"\",\\n        if self._federated_issuer is not None:\\n            return self._federated_issuer\\n\\n        return self.issuer\\n\\n    def __str__(self) -> str:\\n        \"\"\",\\n        return self._raw_token',\n",
       "  'class IssuerError(Exception):\\n    \"\"\",\\n\\n    pass',\n",
       "  'class Issuer:\\n    \"\"\",\\n\\n    def __init__(self, base_url: str) -> None:\\n        \"\"\",\\n        oidc_config_url = urllib.parse.urljoin(\\n            f\"{base_url}/\", \".well-known/openid-configuration\"\\n        )\\n\\n        try:\\n            resp: requests.Response = requests.get(oidc_config_url, timeout=30)\\n        except (requests.ConnectionError, requests.Timeout) as exc:\\n            raise NetworkError from exc\\n\\n        try:\\n            resp.raise_for_status()\\n        except requests.HTTPError as http_error:\\n            raise IssuerError from http_error\\n\\n        try:\\n            # We don\\'t generally expect this to fail (since the provider should\\n            # return a non-success HTTP code which we catch above), but we\\n            # check just in case we have a misbehaving OIDC issuer.\\n            self.oidc_config = _OpenIDConfiguration.model_validate(resp.json())\\n        except ValueError as exc:\\n            raise IssuerError(f\"OIDC issuer returned invalid configuration: {exc}\")\\n\\n    @classmethod\\n    def production(cls) -> Issuer:\\n        \"\"\",\\n        return cls(DEFAULT_OAUTH_ISSUER_URL)\\n\\n    @classmethod\\n    def staging(cls) -> Issuer:\\n        \"\"\",\\n        return cls(STAGING_OAUTH_ISSUER_URL)\\n\\n    def identity_token(  # nosec: B107\\n        self,\\n        client_id: str = \"sigstore\",\\n        client_secret: str = \"\",\\n        force_oob: bool = False,\\n    ) -> IdentityToken:\\n        \"\"\",\\n\\n        # This function and the components that it relies on are based off of:\\n        # https://github.com/psteniusubi/python-sample\\n\\n        from sigstore._internal.oidc.oauth import _OAuthFlow\\n\\n        code: str\\n        with _OAuthFlow(client_id, client_secret, self) as server:\\n            # Launch web browser\\n            if not force_oob and webbrowser.open(server.base_uri):\\n                print(\"Waiting for browser interaction...\", file=sys.stderr)\\n            else:\\n                server.enable_oob()\\n                print(\\n                    f\"Go to the following link in a browser:\\\\n\\\\n\\\\t{server.auth_endpoint}\",\\n                    file=sys.stderr,\\n                )\\n\\n            if not server.is_oob():\\n                # Wait until the redirect server populates the response\\n                while server.auth_response is None:\\n                    time.sleep(0.1)\\n\\n                auth_error = server.auth_response.get(\"error\")\\n                if auth_error is not None:\\n                    raise IdentityError(\\n                        f\"Error response from auth endpoint: {auth_error[0]}\"\\n                    )\\n                code = server.auth_response[\"code\"][0]\\n            else:\\n                # In the out-of-band case, we wait until the user provides the code\\n                code = input(\"Enter verification code: \")\\n\\n        # Provide code to token endpoint\\n        data = {\\n            \"grant_type\": \"authorization_code\",\\n            \"redirect_uri\": server.redirect_uri,\\n            \"code\": code,\\n            \"code_verifier\": server.oauth_session.code_verifier,\\n        }\\n        auth = (\\n            client_id,\\n            client_secret,\\n        )\\n        logging.debug(f\"PAYLOAD: data={data}\")\\n        try:\\n            resp: requests.Response = requests.post(\\n                self.oidc_config.token_endpoint,\\n                data=data,\\n                auth=auth,\\n                timeout=30,\\n            )\\n        except (requests.ConnectionError, requests.Timeout) as exc:\\n            raise NetworkError from exc\\n\\n        try:\\n            resp.raise_for_status()\\n        except requests.HTTPError as http_error:\\n            raise IdentityError(\\n                f\"Token request failed with {resp.status_code}\"\\n            ) from http_error\\n\\n        token_json = resp.json()\\n        token_error = token_json.get(\"error\")\\n        if token_error is not None:\\n            raise IdentityError(f\"Error response from token endpoint: {token_error}\")\\n\\n        return IdentityToken(token_json[\"access_token\"])',\n",
       "  'class IdentityError(Error):\\n    \"\"\",\\n\\n    @classmethod\\n    def raise_from_id(cls, exc: id.IdentityError) -> NoReturn:\\n        \"\"\",\\n        raise cls(str(exc)) from exc\\n\\n    def diagnostics(self) -> str:\\n        \"\"\",\\n        if isinstance(self.__cause__, id.GitHubOidcPermissionCredentialError):\\n            return f\"\"\"\\n                Insufficient permissions for GitHub Actions workflow.\\n\\n                The most common reason for this is incorrect\\n                configuration of the top-level `permissions` setting of the\\n                workflow YAML file. It should be configured like so:\\n\\n                    permissions:\\n                      id-token: write\\n\\n                Relevant documentation here:\\n\\n                    https://docs.github.com/en/actions/deployment/security-hardening-your-deployments/about-security-hardening-with-openid-connect#adding-permissions-settings\\n\\n                Another possible reason is that the workflow run has been\\n                triggered by a PR from a forked repository. PRs from forked\\n                repositories typically cannot be granted write access.\\n\\n                Relevant documentation here:\\n\\n                    https://docs.github.com/en/actions/security-guides/automatic-token-authentication#modifying-the-permissions-for-the-github_token\\n\\n                Additional context:\\n\\n                {self.__cause__}\\n                \"\"\"\\n        else:\\n            return f\"\"\"\\n                An issue occurred with ambient credential detection.\\n\\n                Additional context:\\n\\n                {self}\\n            \"\"\"'],\n",
       " 'classes_docstrings': [\"\\n    Represents a (subset) of the fields provided by an OpenID Connect provider's\\n    `.well-known/openid-configuration` response, as defined by OpenID Connect Discovery.\\n\\n    See: <https://openid.net/specs/openid-connect-discovery-1_0.html>\\n    \",\n",
       "  'An error raised when an identity token is expired.',\n",
       "  '\\n    An OIDC \"identity\", corresponding to an underlying OIDC token with\\n    a sensible subject, issuer, and audience for Sigstore purposes.\\n    ',\n",
       "  '\\n        Create a new `IdentityToken` from the given OIDC token.\\n        ',\n",
       "  \"\\n        Returns whether or not this `Identity` is currently within its self-stated validity period.\\n\\n        NOTE: As noted in `Identity.__init__`, this is not a verifying wrapper;\\n        the check here only asserts whether the *unverified* identity's claims\\n        are within their validity period.\\n        \",\n",
       "  '\\n        Returns this `IdentityToken`\\'s underlying \"subject\".\\n\\n        Note that this is **not** always the `sub` claim in the corresponding\\n        identity token: depending onm the token\\'s issuer, it may be a *different*\\n        claim, such as `email`. This corresponds to the Sigstore ecosystem\\'s\\n        behavior, e.g. in each issued certificate\\'s SAN.\\n        ',\n",
       "  \"\\n        Returns a URL identifying this `IdentityToken`'s issuer.\\n        \",\n",
       "  \"\\n        Returns a URL identifying the **expected** subject for any Sigstore\\n        certificate issued against this identity token.\\n\\n        The behavior of this field is slightly subtle: for non-federated\\n        identity providers (like a token issued directly by Google's IdP) it\\n        should be exactly equivalent to `IdentityToken.issuer`. For federated\\n        issuers (like Sigstore's own federated IdP) it should be equivalent to\\n        the underlying federated issuer's URL, which is kept in an\\n        implementation-defined claim.\\n\\n        This attribute exists so that clients who wish to inspect the expected\\n        subject of their certificates can do so without relying on\\n        implementation-specific behavior.\\n        \",\n",
       "  '\\n        Returns the underlying OIDC token for this identity.\\n\\n        That this token is secret in nature and **MUST NOT** be disclosed.\\n        ',\n",
       "  '\\n    Raised on any communication or format error with an OIDC issuer.\\n    ',\n",
       "  '\\n    Represents an OIDC issuer (IdP).\\n    ',\n",
       "  \"\\n        Create a new `Issuer` from the given base URL.\\n\\n        This URL is used to locate an OpenID Connect configuration file,\\n        which is then used to bootstrap the issuer's state (such\\n        as authorization and token endpoints).\\n        \",\n",
       "  \"\\n        Returns an `Issuer` configured against Sigstore's production-level services.\\n        \",\n",
       "  \"\\n        Returns an `Issuer` configured against Sigstore's staging-level services.\\n        \",\n",
       "  \"\\n        Retrieves and returns an `IdentityToken` from the current `Issuer`, via OAuth.\\n\\n        This function blocks on user interaction.\\n\\n        The `force_oob` flag controls the kind of flow performed. When `False` (the default),\\n        this function attempts to open the user's web browser before falling back to\\n        an out-of-band flow. When `True`, the out-of-band flow is always used.\\n        \",\n",
       "  \"\\n    Wraps `id`'s IdentityError.\\n    \",\n",
       "  'Raises a wrapped IdentityError from the provided `id.IdentityError`.',\n",
       "  'Returns diagnostics for the error.']}"
      ]
     },
     "execution_count": 23,
     "metadata": {},
     "output_type": "execute_result"
    }
   ],
   "source": [
    "data[\"oidc\"][\"code_chunks\"]"
   ]
  },
  {
   "cell_type": "code",
   "execution_count": 24,
   "id": "bce8e4a6-40db-4360-83ac-f35643e18ce4",
   "metadata": {},
   "outputs": [
    {
     "data": {
      "text/plain": [
       "['class _OpenIDConfiguration(BaseModel):\\n    \"\"\",\\n\\n    authorization_endpoint: StrictStr\\n    token_endpoint: StrictStr',\n",
       " 'class ExpiredIdentity(Exception):\\n    \"\"\",',\n",
       " 'class IdentityToken:\\n    \"\"\",\\n\\n    def __init__(self, raw_token: str) -> None:\\n        \"\"\",\\n\\n        self._raw_token = raw_token\\n\\n        # NOTE: The lack of verification here is intentional, and is part of\\n        # Sigstore\\'s verification model: clients like sigstore-python are\\n        # responsible only for forwarding the OIDC identity to Fulcio for\\n        # certificate binding and issuance.\\n        try:\\n            self._unverified_claims = jwt.decode(\\n                raw_token,\\n                options={\\n                    \"verify_signature\": False,\\n                    \"verify_aud\": True,\\n                    \"verify_iat\": True,\\n                    \"verify_exp\": True,\\n                    # These claims are required by OpenID Connect, so\\n                    # we can strongly enforce their presence.\\n                    # See: https://openid.net/specs/openid-connect-basic-1_0.html#IDToken\\n                    \"require\": [\"aud\", \"sub\", \"iat\", \"exp\", \"iss\"],\\n                },\\n                audience=DEFAULT_AUDIENCE,\\n                # NOTE: This leeway shouldn\\'t be strictly necessary, but is\\n                # included to preempt any (small) skew between the host\\n                # and the originating IdP.\\n                leeway=5,\\n            )\\n        except Exception as exc:\\n            raise IdentityError(\\n                \"Identity token is malformed or missing claims\"\\n            ) from exc\\n\\n        self._iss: str = self._unverified_claims[\"iss\"]\\n        self._nbf: int | None = self._unverified_claims.get(\"nbf\")\\n        self._exp: int = self._unverified_claims[\"exp\"]\\n\\n        # Fail early if this token isn\\'t within its validity period.\\n        if not self.in_validity_period():\\n            raise IdentityError(\"Identity token is not within its validity period\")\\n\\n        # When verifying the private key possession proof, Fulcio uses\\n        # different claims depending on the token\\'s issuer.\\n        # We currently special-case a handful of these, and fall back\\n        # on signing the \"sub\" claim otherwise.\\n        identity_claim = _KNOWN_OIDC_ISSUERS.get(self.issuer)\\n        if identity_claim is not None:\\n            if identity_claim not in self._unverified_claims:\\n                raise IdentityError(\\n                    f\"Identity token is missing the required {identity_claim!r} claim\"\\n                )\\n\\n            self._identity = str(self._unverified_claims.get(identity_claim))\\n        else:\\n            try:\\n                self._identity = str(self._unverified_claims[\"sub\"])\\n            except KeyError:\\n                raise IdentityError(\\n                    \"Identity token is missing the required \\'sub\\' claim\"\\n                )\\n\\n        # This identity token might have been retrieved directly from\\n        # an identity provider, or it might be a \"federated\" identity token\\n        # retrieved from a federated IdP (e.g., Sigstore\\'s own Dex instance).\\n        # In the latter case, the claims will also include a `federated_claims`\\n        # set, which in turn should include a `connector_id` that reflects\\n        # the \"real\" token issuer. We retrieve this, despite technically\\n        # being an implementation detail, because it has value to client\\n        # users: a client might want to make sure that its user is identifying\\n        # with a *particular* IdP, which means that they need to pierce the\\n        # federation layer to check which IdP is actually being used.\\n        self._federated_issuer: str | None = None\\n        federated_claims = self._unverified_claims.get(\"federated_claims\")\\n        if federated_claims is not None:\\n            if not isinstance(federated_claims, dict):\\n                raise IdentityError(\\n                    \"unexpected claim type: federated_claims is not a dict\"\\n                )\\n\\n            federated_issuer = federated_claims.get(\"connector_id\")\\n            if federated_issuer is not None:\\n                if not isinstance(federated_issuer, str):\\n                    raise IdentityError(\\n                        \"unexpected claim type: federated_claims.connector_id is not a string\"\\n                    )\\n\\n                self._federated_issuer = federated_issuer\\n\\n    def in_validity_period(self) -> bool:\\n        \"\"\",\\n\\n        now = datetime.now(timezone.utc).timestamp()\\n\\n        if self._nbf is not None:\\n            return self._nbf <= now < self._exp\\n        else:\\n            return now < self._exp\\n\\n    @property\\n    def identity(self) -> str:\\n        \"\"\",\\n        return self._identity\\n\\n    @property\\n    def issuer(self) -> str:\\n        \"\"\",\\n        return self._iss\\n\\n    @property\\n    def expected_certificate_subject(self) -> str:\\n        \"\"\",\\n        if self._federated_issuer is not None:\\n            return self._federated_issuer\\n\\n        return self.issuer\\n\\n    def __str__(self) -> str:\\n        \"\"\",\\n        return self._raw_token',\n",
       " 'class IssuerError(Exception):\\n    \"\"\",\\n\\n    pass',\n",
       " 'class Issuer:\\n    \"\"\",\\n\\n    def __init__(self, base_url: str) -> None:\\n        \"\"\",\\n        oidc_config_url = urllib.parse.urljoin(\\n            f\"{base_url}/\", \".well-known/openid-configuration\"\\n        )\\n\\n        try:\\n            resp: requests.Response = requests.get(oidc_config_url, timeout=30)\\n        except (requests.ConnectionError, requests.Timeout) as exc:\\n            raise NetworkError from exc\\n\\n        try:\\n            resp.raise_for_status()\\n        except requests.HTTPError as http_error:\\n            raise IssuerError from http_error\\n\\n        try:\\n            # We don\\'t generally expect this to fail (since the provider should\\n            # return a non-success HTTP code which we catch above), but we\\n            # check just in case we have a misbehaving OIDC issuer.\\n            self.oidc_config = _OpenIDConfiguration.model_validate(resp.json())\\n        except ValueError as exc:\\n            raise IssuerError(f\"OIDC issuer returned invalid configuration: {exc}\")\\n\\n    @classmethod\\n    def production(cls) -> Issuer:\\n        \"\"\",\\n        return cls(DEFAULT_OAUTH_ISSUER_URL)\\n\\n    @classmethod\\n    def staging(cls) -> Issuer:\\n        \"\"\",\\n        return cls(STAGING_OAUTH_ISSUER_URL)\\n\\n    def identity_token(  # nosec: B107\\n        self,\\n        client_id: str = \"sigstore\",\\n        client_secret: str = \"\",\\n        force_oob: bool = False,\\n    ) -> IdentityToken:\\n        \"\"\",\\n\\n        # This function and the components that it relies on are based off of:\\n        # https://github.com/psteniusubi/python-sample\\n\\n        from sigstore._internal.oidc.oauth import _OAuthFlow\\n\\n        code: str\\n        with _OAuthFlow(client_id, client_secret, self) as server:\\n            # Launch web browser\\n            if not force_oob and webbrowser.open(server.base_uri):\\n                print(\"Waiting for browser interaction...\", file=sys.stderr)\\n            else:\\n                server.enable_oob()\\n                print(\\n                    f\"Go to the following link in a browser:\\\\n\\\\n\\\\t{server.auth_endpoint}\",\\n                    file=sys.stderr,\\n                )\\n\\n            if not server.is_oob():\\n                # Wait until the redirect server populates the response\\n                while server.auth_response is None:\\n                    time.sleep(0.1)\\n\\n                auth_error = server.auth_response.get(\"error\")\\n                if auth_error is not None:\\n                    raise IdentityError(\\n                        f\"Error response from auth endpoint: {auth_error[0]}\"\\n                    )\\n                code = server.auth_response[\"code\"][0]\\n            else:\\n                # In the out-of-band case, we wait until the user provides the code\\n                code = input(\"Enter verification code: \")\\n\\n        # Provide code to token endpoint\\n        data = {\\n            \"grant_type\": \"authorization_code\",\\n            \"redirect_uri\": server.redirect_uri,\\n            \"code\": code,\\n            \"code_verifier\": server.oauth_session.code_verifier,\\n        }\\n        auth = (\\n            client_id,\\n            client_secret,\\n        )\\n        logging.debug(f\"PAYLOAD: data={data}\")\\n        try:\\n            resp: requests.Response = requests.post(\\n                self.oidc_config.token_endpoint,\\n                data=data,\\n                auth=auth,\\n                timeout=30,\\n            )\\n        except (requests.ConnectionError, requests.Timeout) as exc:\\n            raise NetworkError from exc\\n\\n        try:\\n            resp.raise_for_status()\\n        except requests.HTTPError as http_error:\\n            raise IdentityError(\\n                f\"Token request failed with {resp.status_code}\"\\n            ) from http_error\\n\\n        token_json = resp.json()\\n        token_error = token_json.get(\"error\")\\n        if token_error is not None:\\n            raise IdentityError(f\"Error response from token endpoint: {token_error}\")\\n\\n        return IdentityToken(token_json[\"access_token\"])',\n",
       " 'class IdentityError(Error):\\n    \"\"\",\\n\\n    @classmethod\\n    def raise_from_id(cls, exc: id.IdentityError) -> NoReturn:\\n        \"\"\",\\n        raise cls(str(exc)) from exc\\n\\n    def diagnostics(self) -> str:\\n        \"\"\",\\n        if isinstance(self.__cause__, id.GitHubOidcPermissionCredentialError):\\n            return f\"\"\"\\n                Insufficient permissions for GitHub Actions workflow.\\n\\n                The most common reason for this is incorrect\\n                configuration of the top-level `permissions` setting of the\\n                workflow YAML file. It should be configured like so:\\n\\n                    permissions:\\n                      id-token: write\\n\\n                Relevant documentation here:\\n\\n                    https://docs.github.com/en/actions/deployment/security-hardening-your-deployments/about-security-hardening-with-openid-connect#adding-permissions-settings\\n\\n                Another possible reason is that the workflow run has been\\n                triggered by a PR from a forked repository. PRs from forked\\n                repositories typically cannot be granted write access.\\n\\n                Relevant documentation here:\\n\\n                    https://docs.github.com/en/actions/security-guides/automatic-token-authentication#modifying-the-permissions-for-the-github_token\\n\\n                Additional context:\\n\\n                {self.__cause__}\\n                \"\"\"\\n        else:\\n            return f\"\"\"\\n                An issue occurred with ambient credential detection.\\n\\n                Additional context:\\n\\n                {self}\\n            \"\"\"']"
      ]
     },
     "execution_count": 24,
     "metadata": {},
     "output_type": "execute_result"
    }
   ],
   "source": [
    "data[\"oidc\"][\"code_chunks\"][\"classes_code\"]"
   ]
  },
  {
   "cell_type": "code",
   "execution_count": 25,
   "id": "8dbdcaf7-b101-4782-9825-fe899e7e4a94",
   "metadata": {},
   "outputs": [
    {
     "data": {
      "text/plain": [
       "[\"\\n    Represents a (subset) of the fields provided by an OpenID Connect provider's\\n    `.well-known/openid-configuration` response, as defined by OpenID Connect Discovery.\\n\\n    See: <https://openid.net/specs/openid-connect-discovery-1_0.html>\\n    \",\n",
       " 'An error raised when an identity token is expired.',\n",
       " '\\n    An OIDC \"identity\", corresponding to an underlying OIDC token with\\n    a sensible subject, issuer, and audience for Sigstore purposes.\\n    ',\n",
       " '\\n        Create a new `IdentityToken` from the given OIDC token.\\n        ',\n",
       " \"\\n        Returns whether or not this `Identity` is currently within its self-stated validity period.\\n\\n        NOTE: As noted in `Identity.__init__`, this is not a verifying wrapper;\\n        the check here only asserts whether the *unverified* identity's claims\\n        are within their validity period.\\n        \",\n",
       " '\\n        Returns this `IdentityToken`\\'s underlying \"subject\".\\n\\n        Note that this is **not** always the `sub` claim in the corresponding\\n        identity token: depending onm the token\\'s issuer, it may be a *different*\\n        claim, such as `email`. This corresponds to the Sigstore ecosystem\\'s\\n        behavior, e.g. in each issued certificate\\'s SAN.\\n        ',\n",
       " \"\\n        Returns a URL identifying this `IdentityToken`'s issuer.\\n        \",\n",
       " \"\\n        Returns a URL identifying the **expected** subject for any Sigstore\\n        certificate issued against this identity token.\\n\\n        The behavior of this field is slightly subtle: for non-federated\\n        identity providers (like a token issued directly by Google's IdP) it\\n        should be exactly equivalent to `IdentityToken.issuer`. For federated\\n        issuers (like Sigstore's own federated IdP) it should be equivalent to\\n        the underlying federated issuer's URL, which is kept in an\\n        implementation-defined claim.\\n\\n        This attribute exists so that clients who wish to inspect the expected\\n        subject of their certificates can do so without relying on\\n        implementation-specific behavior.\\n        \",\n",
       " '\\n        Returns the underlying OIDC token for this identity.\\n\\n        That this token is secret in nature and **MUST NOT** be disclosed.\\n        ',\n",
       " '\\n    Raised on any communication or format error with an OIDC issuer.\\n    ',\n",
       " '\\n    Represents an OIDC issuer (IdP).\\n    ',\n",
       " \"\\n        Create a new `Issuer` from the given base URL.\\n\\n        This URL is used to locate an OpenID Connect configuration file,\\n        which is then used to bootstrap the issuer's state (such\\n        as authorization and token endpoints).\\n        \",\n",
       " \"\\n        Returns an `Issuer` configured against Sigstore's production-level services.\\n        \",\n",
       " \"\\n        Returns an `Issuer` configured against Sigstore's staging-level services.\\n        \",\n",
       " \"\\n        Retrieves and returns an `IdentityToken` from the current `Issuer`, via OAuth.\\n\\n        This function blocks on user interaction.\\n\\n        The `force_oob` flag controls the kind of flow performed. When `False` (the default),\\n        this function attempts to open the user's web browser before falling back to\\n        an out-of-band flow. When `True`, the out-of-band flow is always used.\\n        \",\n",
       " \"\\n    Wraps `id`'s IdentityError.\\n    \",\n",
       " 'Raises a wrapped IdentityError from the provided `id.IdentityError`.',\n",
       " 'Returns diagnostics for the error.']"
      ]
     },
     "execution_count": 25,
     "metadata": {},
     "output_type": "execute_result"
    }
   ],
   "source": [
    "data[\"oidc\"][\"code_chunks\"][\"classes_docstrings\"]"
   ]
  },
  {
   "cell_type": "code",
   "execution_count": 26,
   "id": "9830e2d2-3b97-4b14-a57e-3e18b400512f",
   "metadata": {
    "tags": []
   },
   "outputs": [],
   "source": [
    "with open('../../data/raw/chunked_data.json', 'w', encoding=\"utf-8\") as json_file:\n",
    "    json.dump(data, json_file, indent=4)"
   ]
  }
 ],
 "metadata": {
  "kernelspec": {
   "display_name": "Python 3 (ipykernel)",
   "language": "python",
   "name": "python3"
  },
  "language_info": {
   "codemirror_mode": {
    "name": "ipython",
    "version": 3
   },
   "file_extension": ".py",
   "mimetype": "text/x-python",
   "name": "python",
   "nbconvert_exporter": "python",
   "pygments_lexer": "ipython3",
   "version": "3.9.2"
  }
 },
 "nbformat": 4,
 "nbformat_minor": 5
}
