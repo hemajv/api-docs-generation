{
 "cells": [
  {
   "cell_type": "code",
   "execution_count": 1,
   "id": "d03bc808-5731-4467-821b-afde8b7a395e",
   "metadata": {
    "execution": {
     "iopub.execute_input": "2023-11-21T22:14:30.558829Z",
     "iopub.status.busy": "2023-11-21T22:14:30.558214Z",
     "iopub.status.idle": "2023-11-21T22:14:30.571771Z",
     "shell.execute_reply": "2023-11-21T22:14:30.570799Z",
     "shell.execute_reply.started": "2023-11-21T22:14:30.558725Z"
    }
   },
   "outputs": [],
   "source": [
    "from collections import defaultdict\n",
    "from tree_sitter import Language, Parser\n",
    "from pprint import pprint\n",
    "import json"
   ]
  },
  {
   "cell_type": "code",
   "execution_count": 2,
   "id": "99646de4-32aa-45d0-9f11-ce7b12ffc4fc",
   "metadata": {
    "execution": {
     "iopub.execute_input": "2023-11-21T22:14:30.574677Z",
     "iopub.status.busy": "2023-11-21T22:14:30.574108Z",
     "iopub.status.idle": "2023-11-21T22:14:30.588644Z",
     "shell.execute_reply": "2023-11-21T22:14:30.587887Z",
     "shell.execute_reply.started": "2023-11-21T22:14:30.574642Z"
    }
   },
   "outputs": [
    {
     "data": {
      "text/plain": [
       "False"
      ]
     },
     "execution_count": 2,
     "metadata": {},
     "output_type": "execute_result"
    }
   ],
   "source": [
    "Language.build_library(\n",
    "    # Store the library in the `build` directory\n",
    "    \"build/my-languages.so\",\n",
    "    # Include one or more languages\n",
    "    [\"tree-sitter-python\"],\n",
    ")"
   ]
  },
  {
   "cell_type": "code",
   "execution_count": 3,
   "id": "2b56f20a-7b2f-4607-a092-f4ba5cf3b3e0",
   "metadata": {
    "execution": {
     "iopub.execute_input": "2023-11-21T22:14:30.590666Z",
     "iopub.status.busy": "2023-11-21T22:14:30.589934Z",
     "iopub.status.idle": "2023-11-21T22:14:30.594744Z",
     "shell.execute_reply": "2023-11-21T22:14:30.594035Z",
     "shell.execute_reply.started": "2023-11-21T22:14:30.590629Z"
    }
   },
   "outputs": [],
   "source": [
    "PY_LANGUAGE = Language(\"build/my-languages.so\", \"python\")"
   ]
  },
  {
   "cell_type": "code",
   "execution_count": 4,
   "id": "28b00725-4a8b-4135-9f5c-d663500eba10",
   "metadata": {
    "execution": {
     "iopub.execute_input": "2023-11-21T22:14:30.596559Z",
     "iopub.status.busy": "2023-11-21T22:14:30.595870Z",
     "iopub.status.idle": "2023-11-21T22:14:30.600139Z",
     "shell.execute_reply": "2023-11-21T22:14:30.599435Z",
     "shell.execute_reply.started": "2023-11-21T22:14:30.596517Z"
    }
   },
   "outputs": [],
   "source": [
    "parser = Parser()\n",
    "parser.set_language(PY_LANGUAGE)"
   ]
  },
  {
   "cell_type": "code",
   "execution_count": 5,
   "id": "c238f909-5a81-4b15-8544-5acf233b3973",
   "metadata": {
    "execution": {
     "iopub.execute_input": "2023-11-21T22:14:30.601922Z",
     "iopub.status.busy": "2023-11-21T22:14:30.601351Z",
     "iopub.status.idle": "2023-11-21T22:14:30.607518Z",
     "shell.execute_reply": "2023-11-21T22:14:30.606791Z",
     "shell.execute_reply.started": "2023-11-21T22:14:30.601870Z"
    }
   },
   "outputs": [],
   "source": [
    "# load nested data\n",
    "dataset_path = \"../../data/raw/nested_data.json\"\n",
    "with open(dataset_path, 'r') as f:\n",
    "\t\tdata = json.load(f)"
   ]
  },
  {
   "cell_type": "code",
   "execution_count": 6,
   "id": "48166846-ae38-4bff-9997-358ec7e1c1ae",
   "metadata": {
    "execution": {
     "iopub.execute_input": "2023-11-21T22:14:30.609350Z",
     "iopub.status.busy": "2023-11-21T22:14:30.608758Z",
     "iopub.status.idle": "2023-11-21T22:14:30.613020Z",
     "shell.execute_reply": "2023-11-21T22:14:30.612303Z",
     "shell.execute_reply.started": "2023-11-21T22:14:30.609316Z"
    }
   },
   "outputs": [],
   "source": [
    "code_snippet = data[\"oidc\"][\"code\"][0]['oidc.py']"
   ]
  },
  {
   "cell_type": "code",
   "execution_count": 7,
   "id": "bae432f8-07a0-46a0-b34e-db3637ab8d90",
   "metadata": {
    "execution": {
     "iopub.execute_input": "2023-11-21T22:14:30.615681Z",
     "iopub.status.busy": "2023-11-21T22:14:30.615286Z",
     "iopub.status.idle": "2023-11-21T22:14:30.621240Z",
     "shell.execute_reply": "2023-11-21T22:14:30.620672Z",
     "shell.execute_reply.started": "2023-11-21T22:14:30.615660Z"
    },
    "tags": []
   },
   "outputs": [],
   "source": [
    "tree = parser.parse(bytes(code_snippet, \"utf8\"))\n",
    "root_node = tree.root_node"
   ]
  },
  {
   "cell_type": "code",
   "execution_count": 8,
   "id": "96656b98-57e8-4f96-96ea-ae27acc7a698",
   "metadata": {
    "execution": {
     "iopub.execute_input": "2023-11-21T22:14:30.622500Z",
     "iopub.status.busy": "2023-11-21T22:14:30.622058Z",
     "iopub.status.idle": "2023-11-21T22:14:30.629420Z",
     "shell.execute_reply": "2023-11-21T22:14:30.628848Z",
     "shell.execute_reply.started": "2023-11-21T22:14:30.622479Z"
    },
    "tags": []
   },
   "outputs": [],
   "source": [
    "def extract_functions_classes_imports(node):\n",
    "    if node.type == 'import_statement':\n",
    "        import_text = node.text.strip() if hasattr(node, 'text') else \"\"\n",
    "        return {'imports': [import_text]}\n",
    "\n",
    "    elif node.type == 'function_definition':\n",
    "        function_text = node.text.strip() if hasattr(node, 'text') else \"\"\n",
    "        return {'functions': [function_text]}\n",
    "\n",
    "    elif node.type == 'class_definition':\n",
    "        class_text = node.text.strip() if hasattr(node, 'text') else \"\"\n",
    "        class_body = []\n",
    "        for child in node.children:\n",
    "            if child.type == 'function_definition':\n",
    "                method_text = child.text.strip() if hasattr(child, 'text') else \"\"\n",
    "                class_body.append(method_text)\n",
    "\n",
    "        return {'classes': {class_text: class_body}}\n",
    "\n",
    "    # Check if it's a documentation string for the entire module\n",
    "    elif node.type == 'expression_statement' and node.child_count > 0 and node.children[0].type == 'string':\n",
    "        doc_string = node.children[0].text.strip() if hasattr(node.children[0], 'text') else \"\"\n",
    "        return {'documentation': [doc_string]}\n",
    "\n",
    "    # If it's not an import, function, or class, and not a documentation string, consider it as 'other'\n",
    "    else:\n",
    "        other_text = node.text.strip() if hasattr(node, 'text') else \"\"\n",
    "        return {'other': [other_text]}\n"
   ]
  },
  {
   "cell_type": "code",
   "execution_count": 9,
   "id": "2e17f579-efb2-483c-8b5f-a52e4af89801",
   "metadata": {
    "execution": {
     "iopub.execute_input": "2023-11-21T22:14:30.630624Z",
     "iopub.status.busy": "2023-11-21T22:14:30.630237Z",
     "iopub.status.idle": "2023-11-21T22:14:30.635289Z",
     "shell.execute_reply": "2023-11-21T22:14:30.634712Z",
     "shell.execute_reply.started": "2023-11-21T22:14:30.630602Z"
    },
    "tags": []
   },
   "outputs": [],
   "source": [
    "def categorize_code(root_node):\n",
    "    result = {'imports': [], 'functions': [], 'classes': defaultdict(list), 'documentation': [], 'other': []}\n",
    "    for node in root_node.children:\n",
    "        category_result = extract_functions_classes_imports(node)\n",
    "        for category, items in category_result.items():\n",
    "            if category == 'classes':\n",
    "                for class_name, class_body in items.items():\n",
    "                    result[category][class_name].extend(class_body)\n",
    "            else:\n",
    "                result[category].extend(items)\n",
    "\n",
    "    return result"
   ]
  },
  {
   "cell_type": "code",
   "execution_count": 10,
   "id": "d24fc353-38fa-4789-a0e6-0fbf0621e68f",
   "metadata": {
    "execution": {
     "iopub.execute_input": "2023-11-21T22:14:30.636503Z",
     "iopub.status.busy": "2023-11-21T22:14:30.636119Z",
     "iopub.status.idle": "2023-11-21T22:14:30.640107Z",
     "shell.execute_reply": "2023-11-21T22:14:30.639549Z",
     "shell.execute_reply.started": "2023-11-21T22:14:30.636482Z"
    },
    "tags": []
   },
   "outputs": [],
   "source": [
    "result = categorize_code(root_node)"
   ]
  },
  {
   "cell_type": "code",
   "execution_count": 11,
   "id": "eee817ab-b6b2-47ff-8416-1c3920066513",
   "metadata": {
    "execution": {
     "iopub.execute_input": "2023-11-21T22:14:30.641123Z",
     "iopub.status.busy": "2023-11-21T22:14:30.640847Z",
     "iopub.status.idle": "2023-11-21T22:14:30.645085Z",
     "shell.execute_reply": "2023-11-21T22:14:30.644549Z",
     "shell.execute_reply.started": "2023-11-21T22:14:30.641103Z"
    },
    "tags": []
   },
   "outputs": [
    {
     "data": {
      "text/plain": [
       "dict_keys(['imports', 'functions', 'classes', 'documentation', 'other'])"
      ]
     },
     "execution_count": 11,
     "metadata": {},
     "output_type": "execute_result"
    }
   ],
   "source": [
    "result.keys()"
   ]
  },
  {
   "cell_type": "code",
   "execution_count": 12,
   "id": "0bdabff3-68fe-43dd-a9d4-c38725fd6315",
   "metadata": {
    "execution": {
     "iopub.execute_input": "2023-11-21T22:14:30.646322Z",
     "iopub.status.busy": "2023-11-21T22:14:30.645843Z",
     "iopub.status.idle": "2023-11-21T22:14:30.649638Z",
     "shell.execute_reply": "2023-11-21T22:14:30.649096Z",
     "shell.execute_reply.started": "2023-11-21T22:14:30.646300Z"
    },
    "tags": []
   },
   "outputs": [
    {
     "name": "stdout",
     "output_type": "stream",
     "text": [
      "Imports: [b'import logging', b'import sys', b'import time', b'import urllib.parse', b'import webbrowser', b'import id', b'import jwt', b'import requests']\n"
     ]
    }
   ],
   "source": [
    "print(\"Imports:\", result['imports'])"
   ]
  },
  {
   "cell_type": "code",
   "execution_count": 13,
   "id": "af18f8dd-27e0-447f-b80f-2d59da090023",
   "metadata": {
    "execution": {
     "iopub.execute_input": "2023-11-21T22:14:30.650692Z",
     "iopub.status.busy": "2023-11-21T22:14:30.650422Z",
     "iopub.status.idle": "2023-11-21T22:14:30.654480Z",
     "shell.execute_reply": "2023-11-21T22:14:30.653925Z",
     "shell.execute_reply.started": "2023-11-21T22:14:30.650672Z"
    },
    "tags": []
   },
   "outputs": [
    {
     "name": "stdout",
     "output_type": "stream",
     "text": [
      "Functions: [b'def detect_credential() -> Optional[str]:\\n    \"\"\"Calls `id.detect_credential`, but wraps exceptions with our own exception type.\"\"\"\\n    try:\\n        return cast(Optional[str], id.detect_credential(_DEFAULT_AUDIENCE))\\n    except id.IdentityError as exc:\\n        IdentityError.raise_from_id(exc)']\n"
     ]
    }
   ],
   "source": [
    "print(\"Functions:\", result['functions'])"
   ]
  },
  {
   "cell_type": "code",
   "execution_count": 14,
   "id": "f882788c-5a20-4ca2-b53d-747a5bb5bf09",
   "metadata": {
    "execution": {
     "iopub.execute_input": "2023-11-21T22:14:30.655546Z",
     "iopub.status.busy": "2023-11-21T22:14:30.655285Z",
     "iopub.status.idle": "2023-11-21T22:14:30.659472Z",
     "shell.execute_reply": "2023-11-21T22:14:30.658924Z",
     "shell.execute_reply.started": "2023-11-21T22:14:30.655526Z"
    },
    "tags": []
   },
   "outputs": [
    {
     "name": "stdout",
     "output_type": "stream",
     "text": [
      "Classes:\n",
      "  b'class _OpenIDConfiguration(BaseModel):\\n    \"\"\"\\n    Represents a (subset) of the fields provided by an OpenID Connect provider\\'s\\n    `.well-known/openid-configuration` response, as defined by OpenID Connect Discovery.\\n\\n    See: <https://openid.net/specs/openid-connect-discovery-1_0.html>\\n    \"\"\"\\n\\n    authorization_endpoint: StrictStr\\n    token_endpoint: StrictStr': []\n",
      "  b'class ExpiredIdentity(Exception):\\n    \"\"\"An error raised when an identity token is expired.\"\"\"': []\n",
      "  b'class IdentityToken:\\n    \"\"\"\\n    An OIDC \"identity\", corresponding to an underlying OIDC token with\\n    a sensible subject, issuer, and audience for Sigstore purposes.\\n    \"\"\"\\n\\n    def __init__(self, raw_token: str) -> None:\\n        \"\"\"\\n        Create a new `IdentityToken` from the given OIDC token.\\n        \"\"\"\\n\\n        self._raw_token = raw_token\\n\\n        # NOTE: The lack of verification here is intentional, and is part of\\n        # Sigstore\\'s verification model: clients like sigstore-python are\\n        # responsible only for forwarding the OIDC identity to Fulcio for\\n        # certificate binding and issuance.\\n        try:\\n            self._unverified_claims = jwt.decode(\\n                raw_token,\\n                options={\\n                    \"verify_signature\": False,\\n                    \"verify_aud\": True,\\n                    \"verify_iat\": True,\\n                    \"verify_exp\": True,\\n                    # These claims are required by OpenID Connect, so\\n                    # we can strongly enforce their presence.\\n                    # See: https://openid.net/specs/openid-connect-basic-1_0.html#IDToken\\n                    \"require\": [\"aud\", \"sub\", \"iat\", \"exp\", \"iss\"],\\n                },\\n                audience=DEFAULT_AUDIENCE,\\n                # NOTE: This leeway shouldn\\'t be strictly necessary, but is\\n                # included to preempt any (small) skew between the host\\n                # and the originating IdP.\\n                leeway=5,\\n            )\\n        except Exception as exc:\\n            raise IdentityError(\\n                \"Identity token is malformed or missing claims\"\\n            ) from exc\\n\\n        self._iss: str = self._unverified_claims[\"iss\"]\\n        self._nbf: int | None = self._unverified_claims.get(\"nbf\")\\n        self._exp: int = self._unverified_claims[\"exp\"]\\n\\n        # Fail early if this token isn\\'t within its validity period.\\n        if not self.in_validity_period():\\n            raise IdentityError(\"Identity token is not within its validity period\")\\n\\n        # When verifying the private key possession proof, Fulcio uses\\n        # different claims depending on the token\\'s issuer.\\n        # We currently special-case a handful of these, and fall back\\n        # on signing the \"sub\" claim otherwise.\\n        identity_claim = _KNOWN_OIDC_ISSUERS.get(self.issuer)\\n        if identity_claim is not None:\\n            if identity_claim not in self._unverified_claims:\\n                raise IdentityError(\\n                    f\"Identity token is missing the required {identity_claim!r} claim\"\\n                )\\n\\n            self._identity = str(self._unverified_claims.get(identity_claim))\\n        else:\\n            try:\\n                self._identity = str(self._unverified_claims[\"sub\"])\\n            except KeyError:\\n                raise IdentityError(\\n                    \"Identity token is missing the required \\'sub\\' claim\"\\n                )\\n\\n        # This identity token might have been retrieved directly from\\n        # an identity provider, or it might be a \"federated\" identity token\\n        # retrieved from a federated IdP (e.g., Sigstore\\'s own Dex instance).\\n        # In the latter case, the claims will also include a `federated_claims`\\n        # set, which in turn should include a `connector_id` that reflects\\n        # the \"real\" token issuer. We retrieve this, despite technically\\n        # being an implementation detail, because it has value to client\\n        # users: a client might want to make sure that its user is identifying\\n        # with a *particular* IdP, which means that they need to pierce the\\n        # federation layer to check which IdP is actually being used.\\n        self._federated_issuer: str | None = None\\n        federated_claims = self._unverified_claims.get(\"federated_claims\")\\n        if federated_claims is not None:\\n            if not isinstance(federated_claims, dict):\\n                raise IdentityError(\\n                    \"unexpected claim type: federated_claims is not a dict\"\\n                )\\n\\n            federated_issuer = federated_claims.get(\"connector_id\")\\n            if federated_issuer is not None:\\n                if not isinstance(federated_issuer, str):\\n                    raise IdentityError(\\n                        \"unexpected claim type: federated_claims.connector_id is not a string\"\\n                    )\\n\\n                self._federated_issuer = federated_issuer\\n\\n    def in_validity_period(self) -> bool:\\n        \"\"\"\\n        Returns whether or not this `Identity` is currently within its self-stated validity period.\\n\\n        NOTE: As noted in `Identity.__init__`, this is not a verifying wrapper;\\n        the check here only asserts whether the *unverified* identity\\'s claims\\n        are within their validity period.\\n        \"\"\"\\n\\n        now = datetime.now(timezone.utc).timestamp()\\n\\n        if self._nbf is not None:\\n            return self._nbf <= now < self._exp\\n        else:\\n            return now < self._exp\\n\\n    @property\\n    def identity(self) -> str:\\n        \"\"\"\\n        Returns this `IdentityToken`\\'s underlying \"subject\".\\n\\n        Note that this is **not** always the `sub` claim in the corresponding\\n        identity token: depending onm the token\\'s issuer, it may be a *different*\\n        claim, such as `email`. This corresponds to the Sigstore ecosystem\\'s\\n        behavior, e.g. in each issued certificate\\'s SAN.\\n        \"\"\"\\n        return self._identity\\n\\n    @property\\n    def issuer(self) -> str:\\n        \"\"\"\\n        Returns a URL identifying this `IdentityToken`\\'s issuer.\\n        \"\"\"\\n        return self._iss\\n\\n    @property\\n    def expected_certificate_subject(self) -> str:\\n        \"\"\"\\n        Returns a URL identifying the **expected** subject for any Sigstore\\n        certificate issued against this identity token.\\n\\n        The behavior of this field is slightly subtle: for non-federated\\n        identity providers (like a token issued directly by Google\\'s IdP) it\\n        should be exactly equivalent to `IdentityToken.issuer`. For federated\\n        issuers (like Sigstore\\'s own federated IdP) it should be equivalent to\\n        the underlying federated issuer\\'s URL, which is kept in an\\n        implementation-defined claim.\\n\\n        This attribute exists so that clients who wish to inspect the expected\\n        subject of their certificates can do so without relying on\\n        implementation-specific behavior.\\n        \"\"\"\\n        if self._federated_issuer is not None:\\n            return self._federated_issuer\\n\\n        return self.issuer\\n\\n    def __str__(self) -> str:\\n        \"\"\"\\n        Returns the underlying OIDC token for this identity.\\n\\n        That this token is secret in nature and **MUST NOT** be disclosed.\\n        \"\"\"\\n        return self._raw_token': []\n",
      "  b'class IssuerError(Exception):\\n    \"\"\"\\n    Raised on any communication or format error with an OIDC issuer.\\n    \"\"\"\\n\\n    pass': []\n",
      "  b'class Issuer:\\n    \"\"\"\\n    Represents an OIDC issuer (IdP).\\n    \"\"\"\\n\\n    def __init__(self, base_url: str) -> None:\\n        \"\"\"\\n        Create a new `Issuer` from the given base URL.\\n\\n        This URL is used to locate an OpenID Connect configuration file,\\n        which is then used to bootstrap the issuer\\'s state (such\\n        as authorization and token endpoints).\\n        \"\"\"\\n        oidc_config_url = urllib.parse.urljoin(\\n            f\"{base_url}/\", \".well-known/openid-configuration\"\\n        )\\n\\n        try:\\n            resp: requests.Response = requests.get(oidc_config_url, timeout=30)\\n        except (requests.ConnectionError, requests.Timeout) as exc:\\n            raise NetworkError from exc\\n\\n        try:\\n            resp.raise_for_status()\\n        except requests.HTTPError as http_error:\\n            raise IssuerError from http_error\\n\\n        try:\\n            # We don\\'t generally expect this to fail (since the provider should\\n            # return a non-success HTTP code which we catch above), but we\\n            # check just in case we have a misbehaving OIDC issuer.\\n            self.oidc_config = _OpenIDConfiguration.model_validate(resp.json())\\n        except ValueError as exc:\\n            raise IssuerError(f\"OIDC issuer returned invalid configuration: {exc}\")\\n\\n    @classmethod\\n    def production(cls) -> Issuer:\\n        \"\"\"\\n        Returns an `Issuer` configured against Sigstore\\'s production-level services.\\n        \"\"\"\\n        return cls(DEFAULT_OAUTH_ISSUER_URL)\\n\\n    @classmethod\\n    def staging(cls) -> Issuer:\\n        \"\"\"\\n        Returns an `Issuer` configured against Sigstore\\'s staging-level services.\\n        \"\"\"\\n        return cls(STAGING_OAUTH_ISSUER_URL)\\n\\n    def identity_token(  # nosec: B107\\n        self,\\n        client_id: str = \"sigstore\",\\n        client_secret: str = \"\",\\n        force_oob: bool = False,\\n    ) -> IdentityToken:\\n        \"\"\"\\n        Retrieves and returns an `IdentityToken` from the current `Issuer`, via OAuth.\\n\\n        This function blocks on user interaction.\\n\\n        The `force_oob` flag controls the kind of flow performed. When `False` (the default),\\n        this function attempts to open the user\\'s web browser before falling back to\\n        an out-of-band flow. When `True`, the out-of-band flow is always used.\\n        \"\"\"\\n\\n        # This function and the components that it relies on are based off of:\\n        # https://github.com/psteniusubi/python-sample\\n\\n        from sigstore._internal.oidc.oauth import _OAuthFlow\\n\\n        code: str\\n        with _OAuthFlow(client_id, client_secret, self) as server:\\n            # Launch web browser\\n            if not force_oob and webbrowser.open(server.base_uri):\\n                print(\"Waiting for browser interaction...\", file=sys.stderr)\\n            else:\\n                server.enable_oob()\\n                print(\\n                    f\"Go to the following link in a browser:\\\\n\\\\n\\\\t{server.auth_endpoint}\",\\n                    file=sys.stderr,\\n                )\\n\\n            if not server.is_oob():\\n                # Wait until the redirect server populates the response\\n                while server.auth_response is None:\\n                    time.sleep(0.1)\\n\\n                auth_error = server.auth_response.get(\"error\")\\n                if auth_error is not None:\\n                    raise IdentityError(\\n                        f\"Error response from auth endpoint: {auth_error[0]}\"\\n                    )\\n                code = server.auth_response[\"code\"][0]\\n            else:\\n                # In the out-of-band case, we wait until the user provides the code\\n                code = input(\"Enter verification code: \")\\n\\n        # Provide code to token endpoint\\n        data = {\\n            \"grant_type\": \"authorization_code\",\\n            \"redirect_uri\": server.redirect_uri,\\n            \"code\": code,\\n            \"code_verifier\": server.oauth_session.code_verifier,\\n        }\\n        auth = (\\n            client_id,\\n            client_secret,\\n        )\\n        logging.debug(f\"PAYLOAD: data={data}\")\\n        try:\\n            resp: requests.Response = requests.post(\\n                self.oidc_config.token_endpoint,\\n                data=data,\\n                auth=auth,\\n                timeout=30,\\n            )\\n        except (requests.ConnectionError, requests.Timeout) as exc:\\n            raise NetworkError from exc\\n\\n        try:\\n            resp.raise_for_status()\\n        except requests.HTTPError as http_error:\\n            raise IdentityError(\\n                f\"Token request failed with {resp.status_code}\"\\n            ) from http_error\\n\\n        token_json = resp.json()\\n        token_error = token_json.get(\"error\")\\n        if token_error is not None:\\n            raise IdentityError(f\"Error response from token endpoint: {token_error}\")\\n\\n        return IdentityToken(token_json[\"access_token\"])': []\n",
      "  b'class IdentityError(Error):\\n    \"\"\"\\n    Wraps `id`\\'s IdentityError.\\n    \"\"\"\\n\\n    @classmethod\\n    def raise_from_id(cls, exc: id.IdentityError) -> NoReturn:\\n        \"\"\"Raises a wrapped IdentityError from the provided `id.IdentityError`.\"\"\"\\n        raise cls(str(exc)) from exc\\n\\n    def diagnostics(self) -> str:\\n        \"\"\"Returns diagnostics for the error.\"\"\"\\n        if isinstance(self.__cause__, id.GitHubOidcPermissionCredentialError):\\n            return f\"\"\"\\n                Insufficient permissions for GitHub Actions workflow.\\n\\n                The most common reason for this is incorrect\\n                configuration of the top-level `permissions` setting of the\\n                workflow YAML file. It should be configured like so:\\n\\n                    permissions:\\n                      id-token: write\\n\\n                Relevant documentation here:\\n\\n                    https://docs.github.com/en/actions/deployment/security-hardening-your-deployments/about-security-hardening-with-openid-connect#adding-permissions-settings\\n\\n                Another possible reason is that the workflow run has been\\n                triggered by a PR from a forked repository. PRs from forked\\n                repositories typically cannot be granted write access.\\n\\n                Relevant documentation here:\\n\\n                    https://docs.github.com/en/actions/security-guides/automatic-token-authentication#modifying-the-permissions-for-the-github_token\\n\\n                Additional context:\\n\\n                {self.__cause__}\\n                \"\"\"\\n        else:\\n            return f\"\"\"\\n                An issue occurred with ambient credential detection.\\n\\n                Additional context:\\n\\n                {self}\\n            \"\"\"': []\n"
     ]
    }
   ],
   "source": [
    "print(\"Classes:\")\n",
    "for class_name, class_body in result['classes'].items():\n",
    "    print(f\"  {class_name}: {class_body}\")"
   ]
  },
  {
   "cell_type": "code",
   "execution_count": 15,
   "id": "98351f70-4ea1-43dd-b921-cb9c46c35476",
   "metadata": {
    "execution": {
     "iopub.execute_input": "2023-11-21T22:14:30.660576Z",
     "iopub.status.busy": "2023-11-21T22:14:30.660237Z",
     "iopub.status.idle": "2023-11-21T22:14:30.665517Z",
     "shell.execute_reply": "2023-11-21T22:14:30.664976Z",
     "shell.execute_reply.started": "2023-11-21T22:14:30.660556Z"
    },
    "tags": []
   },
   "outputs": [
    {
     "name": "stdout",
     "output_type": "stream",
     "text": [
      "Documentation: [b'\"\"\"\\nAPI for retrieving OIDC tokens.\\n\"\"\"']\n"
     ]
    }
   ],
   "source": [
    "print(\"Documentation:\", result['documentation'])"
   ]
  },
  {
   "cell_type": "code",
   "execution_count": 16,
   "id": "015ed6dd-f46c-4fc1-87e1-ecc9c6a99f69",
   "metadata": {
    "execution": {
     "iopub.execute_input": "2023-11-21T22:14:30.678339Z",
     "iopub.status.busy": "2023-11-21T22:14:30.677988Z",
     "iopub.status.idle": "2023-11-21T22:14:30.682102Z",
     "shell.execute_reply": "2023-11-21T22:14:30.681515Z",
     "shell.execute_reply.started": "2023-11-21T22:14:30.678316Z"
    },
    "tags": []
   },
   "outputs": [
    {
     "name": "stdout",
     "output_type": "stream",
     "text": [
      "Other: [b'# Copyright 2022 The Sigstore Authors', b'#', b'# Licensed under the Apache License, Version 2.0 (the \"License\");', b'# you may not use this file except in compliance with the License.', b'# You may obtain a copy of the License at', b'#', b'#      http://www.apache.org/licenses/LICENSE-2.0', b'#', b'# Unless required by applicable law or agreed to in writing, software', b'# distributed under the License is distributed on an \"AS IS\" BASIS,', b'# WITHOUT WARRANTIES OR CONDITIONS OF ANY KIND, either express or implied.', b'# See the License for the specific language governing permissions and', b'# limitations under the License.', b'from __future__ import annotations', b'from datetime import datetime, timezone', b'from typing import NoReturn, Optional, cast', b'from pydantic import BaseModel, StrictStr', b'from sigstore.errors import Error, NetworkError', b'DEFAULT_OAUTH_ISSUER_URL = \"https://oauth2.sigstore.dev/auth\"', b'STAGING_OAUTH_ISSUER_URL = \"https://oauth2.sigstage.dev/auth\"', b'# See: https://github.com/sigstore/fulcio/blob/b2186c0/pkg/config/config.go#L182-L201', b'_KNOWN_OIDC_ISSUERS = {\\n    \"https://accounts.google.com\": \"email\",\\n    \"https://oauth2.sigstore.dev/auth\": \"email\",\\n    \"https://oauth2.sigstage.dev/auth\": \"email\",\\n    \"https://token.actions.githubusercontent.com\": \"sub\",\\n}', b'_DEFAULT_AUDIENCE = \"sigstore\"', b'# See: https://github.com/sigstore/fulcio/blob/b2186c0/pkg/config/config.go#L182-L201', b'_KNOWN_OIDC_ISSUERS = {\\n    \"https://accounts.google.com\": \"email\",\\n    \"https://oauth2.sigstore.dev/auth\": \"email\",\\n    \"https://oauth2.sigstage.dev/auth\": \"email\",\\n    \"https://token.actions.githubusercontent.com\": \"sub\",\\n}', b'DEFAULT_AUDIENCE = \"sigstore\"']\n"
     ]
    }
   ],
   "source": [
    "print(\"Other:\", result['other'])"
   ]
  },
  {
   "cell_type": "code",
   "execution_count": null,
   "id": "afb2eeca-c723-4fdc-9e98-59d3348b323c",
   "metadata": {},
   "outputs": [],
   "source": []
  }
 ],
 "metadata": {
  "kernelspec": {
   "display_name": "Python 3 (ipykernel)",
   "language": "python",
   "name": "python3"
  },
  "language_info": {
   "codemirror_mode": {
    "name": "ipython",
    "version": 3
   },
   "file_extension": ".py",
   "mimetype": "text/x-python",
   "name": "python",
   "nbconvert_exporter": "python",
   "pygments_lexer": "ipython3",
   "version": "3.9.14"
  }
 },
 "nbformat": 4,
 "nbformat_minor": 5
}
