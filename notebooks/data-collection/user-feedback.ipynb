{
 "cells": [
  {
   "cell_type": "markdown",
   "metadata": {},
   "source": [
    "### Analyzing Feedback\n",
    "\n",
    "This Jupyter notebook demonstrates how to extract\n",
    "user feedback from the database we created earlier.\n",
    "\n",
    "The data is stored in a table which was created with the\n",
    "following schema:\n",
    "\n",
    "```sql\n",
    "CREATE TABLE IF NOT EXISTS feedback (\n",
    "\tid integer PRIMARY KEY AUTOINCREMENT,\n",
    "\ttype text NOT NULL,\n",
    "\tscore text NOT NULL,\n",
    "\ttext text,\n",
    "\ttimestamp text NOT NULL\n",
    ");\n",
    "```"
   ]
  },
  {
   "cell_type": "code",
   "execution_count": 6,
   "metadata": {},
   "outputs": [],
   "source": [
    "import sqlite3\n",
    "import os"
   ]
  },
  {
   "cell_type": "code",
   "execution_count": 7,
   "metadata": {},
   "outputs": [],
   "source": [
    "def get_db_file() -> str:\n",
    "    db_file = os.getenv(\"FEEDBACK_DB\")\n",
    "    if not db_file:\n",
    "        db_file = \"/tmp/feedback.db\"\n",
    "    return db_file\n",
    "\n",
    "\n",
    "def create_connection() -> sqlite3.Connection | None:\n",
    "    \"\"\"\n",
    "    Creates connection with the Sqlite database.\n",
    "    \"\"\"\n",
    "\n",
    "    db_file = get_db_file()\n",
    "    conn = None\n",
    "    try:\n",
    "        conn = sqlite3.connect(db_file)\n",
    "    except sqlite3.Error as e:\n",
    "        print(e)\n",
    "    return conn"
   ]
  },
  {
   "cell_type": "code",
   "execution_count": 8,
   "metadata": {},
   "outputs": [],
   "source": [
    "conn = create_connection()"
   ]
  },
  {
   "cell_type": "code",
   "execution_count": 9,
   "metadata": {},
   "outputs": [
    {
     "name": "stdout",
     "output_type": "stream",
     "text": [
      "(4, 'thumbs', '👍', 'The API response is already perfect 👍', 'Tue Jan 16 17:22:09 2024')\n",
      "(5, 'thumbs', '👎', 'The API was way too long', 'Tue Jan 16 17:22:50 2024')\n"
     ]
    }
   ],
   "source": [
    "conn = create_connection()\n",
    "\n",
    "# Execute the SELECT * query\n",
    "cursor = conn.cursor()\n",
    "cursor.execute(\"SELECT * FROM feedback\")\n",
    "\n",
    "# Fetch all rows from the result set\n",
    "rows = cursor.fetchall()\n",
    "\n",
    "# Print the rows\n",
    "for row in rows:\n",
    "    print(row)\n"
   ]
  },
  {
   "cell_type": "code",
   "execution_count": 10,
   "metadata": {},
   "outputs": [],
   "source": [
    "# Close the cursor and connection\n",
    "cursor.close()\n",
    "conn.close()"
   ]
  }
 ],
 "metadata": {
  "kernelspec": {
   "display_name": "venv",
   "language": "python",
   "name": "python3"
  },
  "language_info": {
   "codemirror_mode": {
    "name": "ipython",
    "version": 3
   },
   "file_extension": ".py",
   "mimetype": "text/x-python",
   "name": "python",
   "nbconvert_exporter": "python",
   "pygments_lexer": "ipython3",
   "version": "3.11.1"
  }
 },
 "nbformat": 4,
 "nbformat_minor": 2
}
